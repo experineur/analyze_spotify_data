{
 "cells": [
  {
   "cell_type": "markdown",
   "metadata": {},
   "source": [
    "# Exploratory Data Analysis \n",
    "An approach to EDA:  \n",
    "![image of the data flow showing visualization as an exploratory and iterative process](http://benbestphd.com/images/r4ds_data-science.png)"
   ]
  },
  {
   "cell_type": "markdown",
   "metadata": {},
   "source": [
    "#### The goal of EDA is to discover patterns in data. This is a fundamental stepping stone towards predictive modelling, or an end goal in itself. \n",
    "\n",
    "Tips for good EDA:\n",
    "- Get to know the context of the data.  \n",
    "- Question the data: Who collected it? Who is distributing it? Do all of the patterns make sense to what you know about the world? If they don’t, go back and look more closely at your data.\n",
    "\n",
    "- Use EDA to formulate a question based on the patterns that you see.\n",
    "- Use EDA to check if a hypothesis is worth a deeper analysis.\n",
    "\n",
    "- Keep the questions SIMPLE and BRIEF- the goal is to understand and build complexity further on.\n",
    "- Its an iterative process-- its okay to repeat things so long as you learn from previous output."
   ]
  },
  {
   "cell_type": "code",
   "execution_count": 1,
   "metadata": {
    "ExecuteTime": {
     "end_time": "2020-09-24T16:10:30.132434Z",
     "start_time": "2020-09-24T16:09:59.115180Z"
    }
   },
   "outputs": [],
   "source": [
    "# importing the libraries for data processing\n",
    "import numpy as np \n",
    "import pandas as pd \n"
   ]
  },
  {
   "cell_type": "markdown",
   "metadata": {},
   "source": [
    "### 1. Tidying our charts data"
   ]
  },
  {
   "cell_type": "markdown",
   "metadata": {},
   "source": [
    "Read the csv file, check for missing, duplicated and unexpected values, and filtering if needed"
   ]
  },
  {
   "cell_type": "code",
   "execution_count": 2,
   "metadata": {
    "ExecuteTime": {
     "end_time": "2020-09-24T16:13:59.415710Z",
     "start_time": "2020-09-24T16:13:57.552775Z"
    }
   },
   "outputs": [
    {
     "data": {
      "text/html": [
       "<div>\n",
       "<style scoped>\n",
       "    .dataframe tbody tr th:only-of-type {\n",
       "        vertical-align: middle;\n",
       "    }\n",
       "\n",
       "    .dataframe tbody tr th {\n",
       "        vertical-align: top;\n",
       "    }\n",
       "\n",
       "    .dataframe thead th {\n",
       "        text-align: right;\n",
       "    }\n",
       "</style>\n",
       "<table border=\"1\" class=\"dataframe\">\n",
       "  <thead>\n",
       "    <tr style=\"text-align: right;\">\n",
       "      <th></th>\n",
       "      <th>date</th>\n",
       "      <th>position</th>\n",
       "      <th>track_id</th>\n",
       "      <th>track_name</th>\n",
       "      <th>artist</th>\n",
       "      <th>streams</th>\n",
       "    </tr>\n",
       "  </thead>\n",
       "  <tbody>\n",
       "    <tr>\n",
       "      <th>0</th>\n",
       "      <td>2018-01-01</td>\n",
       "      <td>1</td>\n",
       "      <td>0ofbQMrRDsUaVKq2mGLEAb</td>\n",
       "      <td>Havana</td>\n",
       "      <td>Camila Cabello</td>\n",
       "      <td>155633</td>\n",
       "    </tr>\n",
       "    <tr>\n",
       "      <th>1</th>\n",
       "      <td>2018-01-01</td>\n",
       "      <td>2</td>\n",
       "      <td>0tgVpDi06FyKpA1z0VMD4v</td>\n",
       "      <td>Perfect</td>\n",
       "      <td>Ed Sheeran</td>\n",
       "      <td>134756</td>\n",
       "    </tr>\n",
       "    <tr>\n",
       "      <th>2</th>\n",
       "      <td>2018-01-01</td>\n",
       "      <td>3</td>\n",
       "      <td>3hBBKuWJfxlIlnd9QFoC8k</td>\n",
       "      <td>What Lovers Do (feat. SZA)</td>\n",
       "      <td>Maroon 5</td>\n",
       "      <td>130898</td>\n",
       "    </tr>\n",
       "    <tr>\n",
       "      <th>3</th>\n",
       "      <td>2018-01-01</td>\n",
       "      <td>4</td>\n",
       "      <td>1mXVgsBdtIVeCLJnSnmtdV</td>\n",
       "      <td>Too Good At Goodbyes</td>\n",
       "      <td>Sam Smith</td>\n",
       "      <td>130798</td>\n",
       "    </tr>\n",
       "    <tr>\n",
       "      <th>4</th>\n",
       "      <td>2018-01-01</td>\n",
       "      <td>5</td>\n",
       "      <td>2ekn2ttSfGqwhhate0LSR0</td>\n",
       "      <td>New Rules</td>\n",
       "      <td>Dua Lipa</td>\n",
       "      <td>125472</td>\n",
       "    </tr>\n",
       "  </tbody>\n",
       "</table>\n",
       "</div>"
      ],
      "text/plain": [
       "         date  position                track_id                  track_name  \\\n",
       "0  2018-01-01         1  0ofbQMrRDsUaVKq2mGLEAb                      Havana   \n",
       "1  2018-01-01         2  0tgVpDi06FyKpA1z0VMD4v                     Perfect   \n",
       "2  2018-01-01         3  3hBBKuWJfxlIlnd9QFoC8k  What Lovers Do (feat. SZA)   \n",
       "3  2018-01-01         4  1mXVgsBdtIVeCLJnSnmtdV        Too Good At Goodbyes   \n",
       "4  2018-01-01         5  2ekn2ttSfGqwhhate0LSR0                   New Rules   \n",
       "\n",
       "           artist  streams  \n",
       "0  Camila Cabello   155633  \n",
       "1      Ed Sheeran   134756  \n",
       "2        Maroon 5   130898  \n",
       "3       Sam Smith   130798  \n",
       "4        Dua Lipa   125472  "
      ]
     },
     "execution_count": 2,
     "metadata": {},
     "output_type": "execute_result"
    }
   ],
   "source": [
    "# read the charts dataset\n",
    "charts_df = pd.read_csv('data/spotify_daily_charts.csv')\n",
    "charts_df.head()"
   ]
  },
  {
   "cell_type": "code",
   "execution_count": 3,
   "metadata": {
    "ExecuteTime": {
     "end_time": "2020-09-24T16:13:59.462682Z",
     "start_time": "2020-09-24T16:13:59.430702Z"
    }
   },
   "outputs": [
    {
     "data": {
      "text/plain": [
       "(197800, 6)"
      ]
     },
     "execution_count": 3,
     "metadata": {},
     "output_type": "execute_result"
    }
   ],
   "source": [
    "#Check the shape of the dataframe\n",
    "charts_df.shape "
   ]
  },
  {
   "cell_type": "code",
   "execution_count": 4,
   "metadata": {
    "ExecuteTime": {
     "end_time": "2020-09-24T16:13:59.653574Z",
     "start_time": "2020-09-24T16:13:59.619593Z"
    }
   },
   "outputs": [
    {
     "data": {
      "text/plain": [
       "date          object\n",
       "position       int64\n",
       "track_id      object\n",
       "track_name    object\n",
       "artist        object\n",
       "streams        int64\n",
       "dtype: object"
      ]
     },
     "execution_count": 4,
     "metadata": {},
     "output_type": "execute_result"
    }
   ],
   "source": [
    "#Check data types of the columns\n",
    "charts_df.dtypes"
   ]
  },
  {
   "cell_type": "code",
   "execution_count": 5,
   "metadata": {
    "ExecuteTime": {
     "end_time": "2020-09-24T16:14:00.250232Z",
     "start_time": "2020-09-24T16:13:59.773505Z"
    }
   },
   "outputs": [
    {
     "name": "stdout",
     "output_type": "stream",
     "text": [
      "<class 'pandas.core.frame.DataFrame'>\n",
      "RangeIndex: 197800 entries, 0 to 197799\n",
      "Data columns (total 6 columns):\n",
      "date          197800 non-null object\n",
      "position      197800 non-null int64\n",
      "track_id      197800 non-null object\n",
      "track_name    197800 non-null object\n",
      "artist        197800 non-null object\n",
      "streams       197800 non-null int64\n",
      "dtypes: int64(2), object(4)\n",
      "memory usage: 9.1+ MB\n"
     ]
    }
   ],
   "source": [
    "#Check null values in the columns\n",
    "charts_df.info()"
   ]
  },
  {
   "cell_type": "code",
   "execution_count": 12,
   "metadata": {
    "ExecuteTime": {
     "end_time": "2020-09-24T16:29:08.171839Z",
     "start_time": "2020-09-24T16:29:07.127438Z"
    }
   },
   "outputs": [
    {
     "data": {
      "text/plain": [
       "0"
      ]
     },
     "execution_count": 12,
     "metadata": {},
     "output_type": "execute_result"
    }
   ],
   "source": [
    "#Check for duplicates\n",
    "sum(charts_df.duplicated())"
   ]
  },
  {
   "cell_type": "code",
   "execution_count": 13,
   "metadata": {
    "ExecuteTime": {
     "end_time": "2020-09-24T16:29:09.064331Z",
     "start_time": "2020-09-24T16:29:09.008363Z"
    }
   },
   "outputs": [
    {
     "data": {
      "text/plain": [
       "array([  1,   2,   3,   4,   5,   6,   7,   8,   9,  10,  11,  12,  13,\n",
       "        14,  15,  16,  17,  18,  19,  20,  21,  22,  23,  24,  25,  26,\n",
       "        27,  28,  29,  30,  31,  32,  33,  34,  35,  36,  37,  38,  39,\n",
       "        40,  41,  42,  43,  44,  45,  46,  47,  48,  49,  50,  51,  52,\n",
       "        53,  54,  55,  56,  57,  58,  59,  60,  61,  62,  63,  64,  65,\n",
       "        66,  67,  68,  69,  70,  71,  72,  73,  74,  75,  76,  77,  78,\n",
       "        79,  80,  81,  82,  83,  84,  85,  86,  87,  88,  89,  90,  91,\n",
       "        92,  93,  94,  95,  96,  97,  98,  99, 100, 101, 102, 103, 104,\n",
       "       105, 106, 107, 108, 109, 110, 111, 112, 113, 114, 115, 116, 117,\n",
       "       118, 119, 120, 121, 122, 123, 124, 125, 126, 127, 128, 129, 130,\n",
       "       131, 132, 133, 134, 135, 136, 137, 138, 139, 140, 141, 142, 143,\n",
       "       144, 145, 146, 147, 148, 149, 150, 151, 152, 153, 154, 155, 156,\n",
       "       157, 158, 159, 160, 161, 162, 163, 164, 165, 166, 167, 168, 169,\n",
       "       170, 171, 172, 173, 174, 175, 176, 177, 178, 179, 180, 181, 182,\n",
       "       183, 184, 185, 186, 187, 188, 189, 190, 191, 192, 193, 194, 195,\n",
       "       196, 197, 198, 199, 200], dtype=int64)"
      ]
     },
     "execution_count": 13,
     "metadata": {},
     "output_type": "execute_result"
    }
   ],
   "source": [
    "#check if unique values are expected\n",
    "charts_df['position'].unique()"
   ]
  },
  {
   "cell_type": "code",
   "execution_count": 14,
   "metadata": {
    "ExecuteTime": {
     "end_time": "2020-09-24T16:29:09.570044Z",
     "start_time": "2020-09-24T16:29:09.488088Z"
    }
   },
   "outputs": [
    {
     "data": {
      "text/plain": [
       "605"
      ]
     },
     "execution_count": 14,
     "metadata": {},
     "output_type": "execute_result"
    }
   ],
   "source": [
    "len(charts_df['artist'].unique())"
   ]
  },
  {
   "cell_type": "code",
   "execution_count": 15,
   "metadata": {
    "ExecuteTime": {
     "end_time": "2020-09-24T16:29:10.000799Z",
     "start_time": "2020-09-24T16:29:09.896852Z"
    }
   },
   "outputs": [
    {
     "data": {
      "text/plain": [
       "1826"
      ]
     },
     "execution_count": 15,
     "metadata": {},
     "output_type": "execute_result"
    }
   ],
   "source": [
    "len(charts_df['track_name'].unique())"
   ]
  },
  {
   "cell_type": "code",
   "execution_count": 16,
   "metadata": {
    "ExecuteTime": {
     "end_time": "2020-09-24T16:29:10.430548Z",
     "start_time": "2020-09-24T16:29:10.316612Z"
    }
   },
   "outputs": [
    {
     "data": {
      "text/plain": [
       "2292"
      ]
     },
     "execution_count": 16,
     "metadata": {},
     "output_type": "execute_result"
    }
   ],
   "source": [
    "len(charts_df['track_id'].unique())"
   ]
  },
  {
   "cell_type": "markdown",
   "metadata": {},
   "source": [
    "##### Convert date to datetime index\n",
    "Pandas has a very useful method `pd.to_datetime` that smartly recognizes date and time columns and allows for easier time series techniques"
   ]
  },
  {
   "cell_type": "code",
   "execution_count": 17,
   "metadata": {
    "ExecuteTime": {
     "end_time": "2020-09-24T16:29:14.140425Z",
     "start_time": "2020-09-24T16:29:13.837600Z"
    }
   },
   "outputs": [
    {
     "data": {
      "text/html": [
       "<div>\n",
       "<style scoped>\n",
       "    .dataframe tbody tr th:only-of-type {\n",
       "        vertical-align: middle;\n",
       "    }\n",
       "\n",
       "    .dataframe tbody tr th {\n",
       "        vertical-align: top;\n",
       "    }\n",
       "\n",
       "    .dataframe thead th {\n",
       "        text-align: right;\n",
       "    }\n",
       "</style>\n",
       "<table border=\"1\" class=\"dataframe\">\n",
       "  <thead>\n",
       "    <tr style=\"text-align: right;\">\n",
       "      <th></th>\n",
       "      <th>date</th>\n",
       "      <th>position</th>\n",
       "      <th>track_id</th>\n",
       "      <th>track_name</th>\n",
       "      <th>artist</th>\n",
       "      <th>streams</th>\n",
       "    </tr>\n",
       "  </thead>\n",
       "  <tbody>\n",
       "    <tr>\n",
       "      <th>0</th>\n",
       "      <td>2018-01-01</td>\n",
       "      <td>1</td>\n",
       "      <td>0ofbQMrRDsUaVKq2mGLEAb</td>\n",
       "      <td>Havana</td>\n",
       "      <td>Camila Cabello</td>\n",
       "      <td>155633</td>\n",
       "    </tr>\n",
       "    <tr>\n",
       "      <th>1</th>\n",
       "      <td>2018-01-01</td>\n",
       "      <td>2</td>\n",
       "      <td>0tgVpDi06FyKpA1z0VMD4v</td>\n",
       "      <td>Perfect</td>\n",
       "      <td>Ed Sheeran</td>\n",
       "      <td>134756</td>\n",
       "    </tr>\n",
       "    <tr>\n",
       "      <th>2</th>\n",
       "      <td>2018-01-01</td>\n",
       "      <td>3</td>\n",
       "      <td>3hBBKuWJfxlIlnd9QFoC8k</td>\n",
       "      <td>What Lovers Do (feat. SZA)</td>\n",
       "      <td>Maroon 5</td>\n",
       "      <td>130898</td>\n",
       "    </tr>\n",
       "    <tr>\n",
       "      <th>3</th>\n",
       "      <td>2018-01-01</td>\n",
       "      <td>4</td>\n",
       "      <td>1mXVgsBdtIVeCLJnSnmtdV</td>\n",
       "      <td>Too Good At Goodbyes</td>\n",
       "      <td>Sam Smith</td>\n",
       "      <td>130798</td>\n",
       "    </tr>\n",
       "    <tr>\n",
       "      <th>4</th>\n",
       "      <td>2018-01-01</td>\n",
       "      <td>5</td>\n",
       "      <td>2ekn2ttSfGqwhhate0LSR0</td>\n",
       "      <td>New Rules</td>\n",
       "      <td>Dua Lipa</td>\n",
       "      <td>125472</td>\n",
       "    </tr>\n",
       "  </tbody>\n",
       "</table>\n",
       "</div>"
      ],
      "text/plain": [
       "        date  position                track_id                  track_name  \\\n",
       "0 2018-01-01         1  0ofbQMrRDsUaVKq2mGLEAb                      Havana   \n",
       "1 2018-01-01         2  0tgVpDi06FyKpA1z0VMD4v                     Perfect   \n",
       "2 2018-01-01         3  3hBBKuWJfxlIlnd9QFoC8k  What Lovers Do (feat. SZA)   \n",
       "3 2018-01-01         4  1mXVgsBdtIVeCLJnSnmtdV        Too Good At Goodbyes   \n",
       "4 2018-01-01         5  2ekn2ttSfGqwhhate0LSR0                   New Rules   \n",
       "\n",
       "           artist  streams  \n",
       "0  Camila Cabello   155633  \n",
       "1      Ed Sheeran   134756  \n",
       "2        Maroon 5   130898  \n",
       "3       Sam Smith   130798  \n",
       "4        Dua Lipa   125472  "
      ]
     },
     "execution_count": 17,
     "metadata": {},
     "output_type": "execute_result"
    }
   ],
   "source": [
    "#transform date column into a datetime column\n",
    "charts_df['date'] = pd.to_datetime(charts_df['date'])\n",
    "charts_df.head()"
   ]
  },
  {
   "cell_type": "code",
   "execution_count": 18,
   "metadata": {
    "ExecuteTime": {
     "end_time": "2020-09-24T16:29:14.584185Z",
     "start_time": "2020-09-24T16:29:14.406273Z"
    }
   },
   "outputs": [
    {
     "data": {
      "text/html": [
       "<div>\n",
       "<style scoped>\n",
       "    .dataframe tbody tr th:only-of-type {\n",
       "        vertical-align: middle;\n",
       "    }\n",
       "\n",
       "    .dataframe tbody tr th {\n",
       "        vertical-align: top;\n",
       "    }\n",
       "\n",
       "    .dataframe thead th {\n",
       "        text-align: right;\n",
       "    }\n",
       "</style>\n",
       "<table border=\"1\" class=\"dataframe\">\n",
       "  <thead>\n",
       "    <tr style=\"text-align: right;\">\n",
       "      <th></th>\n",
       "      <th>date</th>\n",
       "      <th>position</th>\n",
       "      <th>track_id</th>\n",
       "      <th>track_name</th>\n",
       "      <th>artist</th>\n",
       "      <th>streams</th>\n",
       "      <th>month</th>\n",
       "    </tr>\n",
       "  </thead>\n",
       "  <tbody>\n",
       "    <tr>\n",
       "      <th>0</th>\n",
       "      <td>2018-01-01</td>\n",
       "      <td>1</td>\n",
       "      <td>0ofbQMrRDsUaVKq2mGLEAb</td>\n",
       "      <td>Havana</td>\n",
       "      <td>Camila Cabello</td>\n",
       "      <td>155633</td>\n",
       "      <td>1</td>\n",
       "    </tr>\n",
       "    <tr>\n",
       "      <th>1</th>\n",
       "      <td>2018-01-01</td>\n",
       "      <td>2</td>\n",
       "      <td>0tgVpDi06FyKpA1z0VMD4v</td>\n",
       "      <td>Perfect</td>\n",
       "      <td>Ed Sheeran</td>\n",
       "      <td>134756</td>\n",
       "      <td>1</td>\n",
       "    </tr>\n",
       "    <tr>\n",
       "      <th>2</th>\n",
       "      <td>2018-01-01</td>\n",
       "      <td>3</td>\n",
       "      <td>3hBBKuWJfxlIlnd9QFoC8k</td>\n",
       "      <td>What Lovers Do (feat. SZA)</td>\n",
       "      <td>Maroon 5</td>\n",
       "      <td>130898</td>\n",
       "      <td>1</td>\n",
       "    </tr>\n",
       "    <tr>\n",
       "      <th>3</th>\n",
       "      <td>2018-01-01</td>\n",
       "      <td>4</td>\n",
       "      <td>1mXVgsBdtIVeCLJnSnmtdV</td>\n",
       "      <td>Too Good At Goodbyes</td>\n",
       "      <td>Sam Smith</td>\n",
       "      <td>130798</td>\n",
       "      <td>1</td>\n",
       "    </tr>\n",
       "    <tr>\n",
       "      <th>4</th>\n",
       "      <td>2018-01-01</td>\n",
       "      <td>5</td>\n",
       "      <td>2ekn2ttSfGqwhhate0LSR0</td>\n",
       "      <td>New Rules</td>\n",
       "      <td>Dua Lipa</td>\n",
       "      <td>125472</td>\n",
       "      <td>1</td>\n",
       "    </tr>\n",
       "  </tbody>\n",
       "</table>\n",
       "</div>"
      ],
      "text/plain": [
       "        date  position                track_id                  track_name  \\\n",
       "0 2018-01-01         1  0ofbQMrRDsUaVKq2mGLEAb                      Havana   \n",
       "1 2018-01-01         2  0tgVpDi06FyKpA1z0VMD4v                     Perfect   \n",
       "2 2018-01-01         3  3hBBKuWJfxlIlnd9QFoC8k  What Lovers Do (feat. SZA)   \n",
       "3 2018-01-01         4  1mXVgsBdtIVeCLJnSnmtdV        Too Good At Goodbyes   \n",
       "4 2018-01-01         5  2ekn2ttSfGqwhhate0LSR0                   New Rules   \n",
       "\n",
       "           artist  streams  month  \n",
       "0  Camila Cabello   155633      1  \n",
       "1      Ed Sheeran   134756      1  \n",
       "2        Maroon 5   130898      1  \n",
       "3       Sam Smith   130798      1  \n",
       "4        Dua Lipa   125472      1  "
      ]
     },
     "execution_count": 18,
     "metadata": {},
     "output_type": "execute_result"
    }
   ],
   "source": [
    "#extract month \n",
    "charts_df['month']=charts_df['date'].dt.month\n",
    "charts_df.head()"
   ]
  },
  {
   "cell_type": "code",
   "execution_count": 19,
   "metadata": {
    "ExecuteTime": {
     "end_time": "2020-09-24T16:29:15.493651Z",
     "start_time": "2020-09-24T16:29:15.120865Z"
    }
   },
   "outputs": [
    {
     "data": {
      "text/html": [
       "<div>\n",
       "<style scoped>\n",
       "    .dataframe tbody tr th:only-of-type {\n",
       "        vertical-align: middle;\n",
       "    }\n",
       "\n",
       "    .dataframe tbody tr th {\n",
       "        vertical-align: top;\n",
       "    }\n",
       "\n",
       "    .dataframe thead th {\n",
       "        text-align: right;\n",
       "    }\n",
       "</style>\n",
       "<table border=\"1\" class=\"dataframe\">\n",
       "  <thead>\n",
       "    <tr style=\"text-align: right;\">\n",
       "      <th></th>\n",
       "      <th>date</th>\n",
       "      <th>position</th>\n",
       "      <th>track_id</th>\n",
       "      <th>track_name</th>\n",
       "      <th>artist</th>\n",
       "      <th>streams</th>\n",
       "      <th>month</th>\n",
       "      <th>year</th>\n",
       "      <th>day</th>\n",
       "      <th>day_of_week</th>\n",
       "    </tr>\n",
       "  </thead>\n",
       "  <tbody>\n",
       "    <tr>\n",
       "      <th>0</th>\n",
       "      <td>2018-01-01</td>\n",
       "      <td>1</td>\n",
       "      <td>0ofbQMrRDsUaVKq2mGLEAb</td>\n",
       "      <td>Havana</td>\n",
       "      <td>Camila Cabello</td>\n",
       "      <td>155633</td>\n",
       "      <td>1</td>\n",
       "      <td>2018</td>\n",
       "      <td>1</td>\n",
       "      <td>0</td>\n",
       "    </tr>\n",
       "    <tr>\n",
       "      <th>1</th>\n",
       "      <td>2018-01-01</td>\n",
       "      <td>2</td>\n",
       "      <td>0tgVpDi06FyKpA1z0VMD4v</td>\n",
       "      <td>Perfect</td>\n",
       "      <td>Ed Sheeran</td>\n",
       "      <td>134756</td>\n",
       "      <td>1</td>\n",
       "      <td>2018</td>\n",
       "      <td>1</td>\n",
       "      <td>0</td>\n",
       "    </tr>\n",
       "    <tr>\n",
       "      <th>2</th>\n",
       "      <td>2018-01-01</td>\n",
       "      <td>3</td>\n",
       "      <td>3hBBKuWJfxlIlnd9QFoC8k</td>\n",
       "      <td>What Lovers Do (feat. SZA)</td>\n",
       "      <td>Maroon 5</td>\n",
       "      <td>130898</td>\n",
       "      <td>1</td>\n",
       "      <td>2018</td>\n",
       "      <td>1</td>\n",
       "      <td>0</td>\n",
       "    </tr>\n",
       "    <tr>\n",
       "      <th>3</th>\n",
       "      <td>2018-01-01</td>\n",
       "      <td>4</td>\n",
       "      <td>1mXVgsBdtIVeCLJnSnmtdV</td>\n",
       "      <td>Too Good At Goodbyes</td>\n",
       "      <td>Sam Smith</td>\n",
       "      <td>130798</td>\n",
       "      <td>1</td>\n",
       "      <td>2018</td>\n",
       "      <td>1</td>\n",
       "      <td>0</td>\n",
       "    </tr>\n",
       "    <tr>\n",
       "      <th>4</th>\n",
       "      <td>2018-01-01</td>\n",
       "      <td>5</td>\n",
       "      <td>2ekn2ttSfGqwhhate0LSR0</td>\n",
       "      <td>New Rules</td>\n",
       "      <td>Dua Lipa</td>\n",
       "      <td>125472</td>\n",
       "      <td>1</td>\n",
       "      <td>2018</td>\n",
       "      <td>1</td>\n",
       "      <td>0</td>\n",
       "    </tr>\n",
       "  </tbody>\n",
       "</table>\n",
       "</div>"
      ],
      "text/plain": [
       "        date  position                track_id                  track_name  \\\n",
       "0 2018-01-01         1  0ofbQMrRDsUaVKq2mGLEAb                      Havana   \n",
       "1 2018-01-01         2  0tgVpDi06FyKpA1z0VMD4v                     Perfect   \n",
       "2 2018-01-01         3  3hBBKuWJfxlIlnd9QFoC8k  What Lovers Do (feat. SZA)   \n",
       "3 2018-01-01         4  1mXVgsBdtIVeCLJnSnmtdV        Too Good At Goodbyes   \n",
       "4 2018-01-01         5  2ekn2ttSfGqwhhate0LSR0                   New Rules   \n",
       "\n",
       "           artist  streams  month  year  day  day_of_week  \n",
       "0  Camila Cabello   155633      1  2018    1            0  \n",
       "1      Ed Sheeran   134756      1  2018    1            0  \n",
       "2        Maroon 5   130898      1  2018    1            0  \n",
       "3       Sam Smith   130798      1  2018    1            0  \n",
       "4        Dua Lipa   125472      1  2018    1            0  "
      ]
     },
     "execution_count": 19,
     "metadata": {},
     "output_type": "execute_result"
    }
   ],
   "source": [
    "#extract year\n",
    "charts_df['year']=charts_df['date'].dt.year\n",
    "# get day and day of week\n",
    "charts_df['day']=charts_df['date'].dt.day\n",
    "charts_df['day_of_week']=charts_df['date'].dt.dayofweek # The day of the week with Monday=0, Sunday=6.\n",
    "charts_df.head()"
   ]
  },
  {
   "cell_type": "markdown",
   "metadata": {},
   "source": [
    "### 2. Examining the charts data\n",
    "Reshape and aggregate the DataFrame to answer basic data questions "
   ]
  },
  {
   "cell_type": "code",
   "execution_count": 7,
   "metadata": {
    "ExecuteTime": {
     "end_time": "2020-09-24T16:19:13.516021Z",
     "start_time": "2020-09-24T16:19:13.390097Z"
    }
   },
   "outputs": [
    {
     "data": {
      "text/plain": [
       "LANY                6559\n",
       "Ben&Ben             5554\n",
       "Ed Sheeran          5274\n",
       "December Avenue     5087\n",
       "Moira Dela Torre    5019\n",
       "Lauv                4122\n",
       "Taylor Swift        3256\n",
       "Post Malone         3204\n",
       "Ariana Grande       2969\n",
       "Maroon 5            2821\n",
       "Name: artist, dtype: int64"
      ]
     },
     "execution_count": 7,
     "metadata": {},
     "output_type": "execute_result"
    }
   ],
   "source": [
    "#Lets create tallies of each column using the `value_counts` method\n",
    "charts_df['artist'].value_counts()[:10]"
   ]
  },
  {
   "cell_type": "code",
   "execution_count": 8,
   "metadata": {
    "ExecuteTime": {
     "end_time": "2020-09-24T16:19:15.732753Z",
     "start_time": "2020-09-24T16:19:15.677784Z"
    }
   },
   "outputs": [
    {
     "data": {
      "text/plain": [
       "Happier                         1245\n",
       "Your Song                       1023\n",
       "Ang Huling El Bimbo             1009\n",
       "Tadhana                          989\n",
       "Kathang Isip                     989\n",
       "                                ... \n",
       "Sweet Shadow                       1\n",
       "The Bells At Christmas             1\n",
       "Summer on You                      1\n",
       "can’t bear to be without you       1\n",
       "It Is the Lord!                    1\n",
       "Name: track_name, Length: 1826, dtype: int64"
      ]
     },
     "execution_count": 8,
     "metadata": {},
     "output_type": "execute_result"
    }
   ],
   "source": [
    "charts_df['track_name'].value_counts()"
   ]
  },
  {
   "cell_type": "code",
   "execution_count": 9,
   "metadata": {
    "ExecuteTime": {
     "end_time": "2020-09-24T16:21:22.114455Z",
     "start_time": "2020-09-24T16:21:22.036502Z"
    }
   },
   "outputs": [
    {
     "data": {
      "text/html": [
       "<div>\n",
       "<style scoped>\n",
       "    .dataframe tbody tr th:only-of-type {\n",
       "        vertical-align: middle;\n",
       "    }\n",
       "\n",
       "    .dataframe tbody tr th {\n",
       "        vertical-align: top;\n",
       "    }\n",
       "\n",
       "    .dataframe thead th {\n",
       "        text-align: right;\n",
       "    }\n",
       "</style>\n",
       "<table border=\"1\" class=\"dataframe\">\n",
       "  <thead>\n",
       "    <tr style=\"text-align: right;\">\n",
       "      <th></th>\n",
       "      <th>date</th>\n",
       "      <th>position</th>\n",
       "      <th>track_id</th>\n",
       "      <th>track_name</th>\n",
       "      <th>artist</th>\n",
       "      <th>streams</th>\n",
       "    </tr>\n",
       "  </thead>\n",
       "  <tbody>\n",
       "    <tr>\n",
       "      <th>112</th>\n",
       "      <td>2018-01-01</td>\n",
       "      <td>113</td>\n",
       "      <td>2RttW7RAu5nOAfq6YFvApB</td>\n",
       "      <td>Happier</td>\n",
       "      <td>Ed Sheeran</td>\n",
       "      <td>22152</td>\n",
       "    </tr>\n",
       "    <tr>\n",
       "      <th>310</th>\n",
       "      <td>2018-01-02</td>\n",
       "      <td>111</td>\n",
       "      <td>2RttW7RAu5nOAfq6YFvApB</td>\n",
       "      <td>Happier</td>\n",
       "      <td>Ed Sheeran</td>\n",
       "      <td>27343</td>\n",
       "    </tr>\n",
       "    <tr>\n",
       "      <th>517</th>\n",
       "      <td>2018-01-03</td>\n",
       "      <td>118</td>\n",
       "      <td>2RttW7RAu5nOAfq6YFvApB</td>\n",
       "      <td>Happier</td>\n",
       "      <td>Ed Sheeran</td>\n",
       "      <td>27619</td>\n",
       "    </tr>\n",
       "    <tr>\n",
       "      <th>717</th>\n",
       "      <td>2018-01-04</td>\n",
       "      <td>118</td>\n",
       "      <td>2RttW7RAu5nOAfq6YFvApB</td>\n",
       "      <td>Happier</td>\n",
       "      <td>Ed Sheeran</td>\n",
       "      <td>27921</td>\n",
       "    </tr>\n",
       "    <tr>\n",
       "      <th>922</th>\n",
       "      <td>2018-01-05</td>\n",
       "      <td>123</td>\n",
       "      <td>2RttW7RAu5nOAfq6YFvApB</td>\n",
       "      <td>Happier</td>\n",
       "      <td>Ed Sheeran</td>\n",
       "      <td>27318</td>\n",
       "    </tr>\n",
       "    <tr>\n",
       "      <th>...</th>\n",
       "      <td>...</td>\n",
       "      <td>...</td>\n",
       "      <td>...</td>\n",
       "      <td>...</td>\n",
       "      <td>...</td>\n",
       "      <td>...</td>\n",
       "    </tr>\n",
       "    <tr>\n",
       "      <th>155183</th>\n",
       "      <td>2020-02-15</td>\n",
       "      <td>184</td>\n",
       "      <td>2dpaYNEQHiRxtZbfNsse99</td>\n",
       "      <td>Happier</td>\n",
       "      <td>Marshmello</td>\n",
       "      <td>28298</td>\n",
       "    </tr>\n",
       "    <tr>\n",
       "      <th>155396</th>\n",
       "      <td>2020-02-16</td>\n",
       "      <td>197</td>\n",
       "      <td>2dpaYNEQHiRxtZbfNsse99</td>\n",
       "      <td>Happier</td>\n",
       "      <td>Marshmello</td>\n",
       "      <td>26734</td>\n",
       "    </tr>\n",
       "    <tr>\n",
       "      <th>159395</th>\n",
       "      <td>2020-03-07</td>\n",
       "      <td>196</td>\n",
       "      <td>2dpaYNEQHiRxtZbfNsse99</td>\n",
       "      <td>Happier</td>\n",
       "      <td>Marshmello</td>\n",
       "      <td>26758</td>\n",
       "    </tr>\n",
       "    <tr>\n",
       "      <th>169590</th>\n",
       "      <td>2020-04-27</td>\n",
       "      <td>191</td>\n",
       "      <td>2RttW7RAu5nOAfq6YFvApB</td>\n",
       "      <td>Happier</td>\n",
       "      <td>Ed Sheeran</td>\n",
       "      <td>21555</td>\n",
       "    </tr>\n",
       "    <tr>\n",
       "      <th>169793</th>\n",
       "      <td>2020-04-28</td>\n",
       "      <td>194</td>\n",
       "      <td>2RttW7RAu5nOAfq6YFvApB</td>\n",
       "      <td>Happier</td>\n",
       "      <td>Ed Sheeran</td>\n",
       "      <td>21499</td>\n",
       "    </tr>\n",
       "  </tbody>\n",
       "</table>\n",
       "<p>1245 rows × 6 columns</p>\n",
       "</div>"
      ],
      "text/plain": [
       "              date  position                track_id track_name      artist  \\\n",
       "112     2018-01-01       113  2RttW7RAu5nOAfq6YFvApB    Happier  Ed Sheeran   \n",
       "310     2018-01-02       111  2RttW7RAu5nOAfq6YFvApB    Happier  Ed Sheeran   \n",
       "517     2018-01-03       118  2RttW7RAu5nOAfq6YFvApB    Happier  Ed Sheeran   \n",
       "717     2018-01-04       118  2RttW7RAu5nOAfq6YFvApB    Happier  Ed Sheeran   \n",
       "922     2018-01-05       123  2RttW7RAu5nOAfq6YFvApB    Happier  Ed Sheeran   \n",
       "...            ...       ...                     ...        ...         ...   \n",
       "155183  2020-02-15       184  2dpaYNEQHiRxtZbfNsse99    Happier  Marshmello   \n",
       "155396  2020-02-16       197  2dpaYNEQHiRxtZbfNsse99    Happier  Marshmello   \n",
       "159395  2020-03-07       196  2dpaYNEQHiRxtZbfNsse99    Happier  Marshmello   \n",
       "169590  2020-04-27       191  2RttW7RAu5nOAfq6YFvApB    Happier  Ed Sheeran   \n",
       "169793  2020-04-28       194  2RttW7RAu5nOAfq6YFvApB    Happier  Ed Sheeran   \n",
       "\n",
       "        streams  \n",
       "112       22152  \n",
       "310       27343  \n",
       "517       27619  \n",
       "717       27921  \n",
       "922       27318  \n",
       "...         ...  \n",
       "155183    28298  \n",
       "155396    26734  \n",
       "159395    26758  \n",
       "169590    21555  \n",
       "169793    21499  \n",
       "\n",
       "[1245 rows x 6 columns]"
      ]
     },
     "execution_count": 9,
     "metadata": {},
     "output_type": "execute_result"
    }
   ],
   "source": [
    "#filtering columns\n",
    "charts_df[charts_df['track_name']=='Happier']"
   ]
  },
  {
   "cell_type": "markdown",
   "metadata": {},
   "source": [
    "> Q1. From top 50 most streamed, get top 20 most frequently occuring artists"
   ]
  },
  {
   "cell_type": "code",
   "execution_count": 10,
   "metadata": {
    "ExecuteTime": {
     "end_time": "2020-09-24T16:22:21.465502Z",
     "start_time": "2020-09-24T16:22:21.403538Z"
    }
   },
   "outputs": [
    {
     "data": {
      "text/plain": [
       "Ben&Ben                3369\n",
       "December Avenue        2348\n",
       "Moira Dela Torre       1771\n",
       "Lauv                   1579\n",
       "LANY                   1512\n",
       "Post Malone            1111\n",
       "Ariana Grande          1091\n",
       "This Band              1085\n",
       "Dua Lipa               1024\n",
       "I Belong to the Zoo    1014\n",
       "Ed Sheeran              888\n",
       "Maroon 5                880\n",
       "Bazzi                   851\n",
       "Taylor Swift            841\n",
       "Khalid                  785\n",
       "Sam Smith               669\n",
       "Matthaios               657\n",
       "Russ                    585\n",
       "Marshmello              562\n",
       "PDL                     547\n",
       "Name: artist, dtype: int64"
      ]
     },
     "execution_count": 10,
     "metadata": {},
     "output_type": "execute_result"
    }
   ],
   "source": [
    "charts_df[charts_df['position']<=50]['artist'].value_counts()[:20]"
   ]
  },
  {
   "cell_type": "markdown",
   "metadata": {},
   "source": [
    "> Q2. From top 50 list this year, get top 20 most frequently occuring artists"
   ]
  },
  {
   "cell_type": "code",
   "execution_count": 21,
   "metadata": {
    "ExecuteTime": {
     "end_time": "2020-09-24T16:29:41.441809Z",
     "start_time": "2020-09-24T16:29:41.326874Z"
    }
   },
   "outputs": [
    {
     "data": {
      "text/plain": [
       "Taylor Swift          1336\n",
       "December Avenue       1242\n",
       "Lauv                  1231\n",
       "Moira Dela Torre       957\n",
       "LANY                   916\n",
       "Ed Sheeran             891\n",
       "Ben&Ben                763\n",
       "BTS                    713\n",
       "Sam Smith              654\n",
       "This Band              621\n",
       "TWICE                  584\n",
       "Harry Styles           581\n",
       "Hale                   518\n",
       "South Border           515\n",
       "Jason Mraz             514\n",
       "Michael Pangilinan     481\n",
       "Shawn Mendes           446\n",
       "Post Malone            443\n",
       "BLACKPINK              417\n",
       "PDL                    417\n",
       "Name: artist, dtype: int64"
      ]
     },
     "execution_count": 21,
     "metadata": {},
     "output_type": "execute_result"
    }
   ],
   "source": [
    "charts_df[(charts_df['position']>=50)&(charts_df['year']==2020)]['artist'].value_counts()[:20]"
   ]
  },
  {
   "cell_type": "markdown",
   "metadata": {},
   "source": [
    "> Q3. On what positions did Taylor Swift land on the chart for 2019? What were her songs that landed first on the chart?"
   ]
  },
  {
   "cell_type": "code",
   "execution_count": 42,
   "metadata": {
    "ExecuteTime": {
     "end_time": "2020-09-24T16:35:18.334080Z",
     "start_time": "2020-09-24T16:35:18.291107Z"
    }
   },
   "outputs": [
    {
     "data": {
      "text/plain": [
       "array([  1,   2,   3,   4,   5,   6,   7,   8,   9,  10,  11,  12,  13,\n",
       "        14,  15,  16,  17,  18,  19,  20,  21,  22,  23,  24,  25,  26,\n",
       "        27,  28,  29,  30,  31,  32,  33,  34,  35,  36,  37,  38,  39,\n",
       "        40,  41,  42,  43,  44,  45,  46,  47,  48,  49,  50,  51,  52,\n",
       "        53,  54,  55,  56,  57,  58,  59,  60,  61,  62,  63,  64,  65,\n",
       "        66,  67,  68,  69,  70,  71,  72,  73,  74,  75,  76,  77,  78,\n",
       "        79,  80,  81,  82,  83,  84,  85,  86,  87,  88,  89,  90,  91,\n",
       "        92,  93,  94,  95,  96,  97,  98,  99, 100, 101, 102, 103, 104,\n",
       "       105, 106, 107, 108, 109, 110, 111, 112, 113, 114, 115, 116, 117,\n",
       "       118, 119, 120, 121, 122, 123, 124, 125, 126, 127, 128, 129, 130,\n",
       "       131, 132, 133, 134, 135, 136, 137, 138, 139, 140, 141, 142, 143,\n",
       "       144, 145, 146, 147, 148, 150, 152, 153, 154, 155, 156, 157, 158,\n",
       "       159, 160, 161, 162, 163, 164, 165, 166, 167, 168, 169, 170, 171,\n",
       "       172, 173, 174, 175, 176, 177, 178, 179, 180, 181, 182, 183, 184,\n",
       "       185, 186, 187, 188, 189, 190, 191, 192, 193, 194, 195, 196, 197,\n",
       "       198, 199, 200], dtype=int64)"
      ]
     },
     "execution_count": 42,
     "metadata": {},
     "output_type": "execute_result"
    }
   ],
   "source": [
    "np.sort(charts_df[(charts_df['artist']=='Taylor Swift')&(charts_df['year']==2019)]['position'].unique())"
   ]
  },
  {
   "cell_type": "code",
   "execution_count": 43,
   "metadata": {
    "ExecuteTime": {
     "end_time": "2020-09-24T16:36:36.631291Z",
     "start_time": "2020-09-24T16:36:36.464387Z"
    }
   },
   "outputs": [
    {
     "data": {
      "text/plain": [
       "array(['ME! (feat. Brendon Urie of Panic! At The Disco)', 'Lover'],\n",
       "      dtype=object)"
      ]
     },
     "execution_count": 43,
     "metadata": {},
     "output_type": "execute_result"
    }
   ],
   "source": [
    "charts_df[(charts_df['artist']=='Taylor Swift')&\\\n",
    "                    (charts_df['year']==2019)&\\\n",
    "                    (charts_df['position']==1)]['track_name'].unique()"
   ]
  },
  {
   "cell_type": "markdown",
   "metadata": {},
   "source": [
    "### 3. Describing and Aggregating the charts dataset\n"
   ]
  },
  {
   "cell_type": "markdown",
   "metadata": {},
   "source": [
    "Basic stats on the streams column using the `describe` method"
   ]
  },
  {
   "cell_type": "code",
   "execution_count": 81,
   "metadata": {
    "ExecuteTime": {
     "end_time": "2020-09-26T05:37:27.618307Z",
     "start_time": "2020-09-26T05:37:27.539355Z"
    }
   },
   "outputs": [
    {
     "data": {
      "text/html": [
       "<div>\n",
       "<style scoped>\n",
       "    .dataframe tbody tr th:only-of-type {\n",
       "        vertical-align: middle;\n",
       "    }\n",
       "\n",
       "    .dataframe tbody tr th {\n",
       "        vertical-align: top;\n",
       "    }\n",
       "\n",
       "    .dataframe thead th {\n",
       "        text-align: right;\n",
       "    }\n",
       "</style>\n",
       "<table border=\"1\" class=\"dataframe\">\n",
       "  <thead>\n",
       "    <tr style=\"text-align: right;\">\n",
       "      <th></th>\n",
       "      <th>position</th>\n",
       "      <th>track_id</th>\n",
       "      <th>track_name</th>\n",
       "      <th>artist</th>\n",
       "      <th>streams</th>\n",
       "      <th>month</th>\n",
       "      <th>year</th>\n",
       "      <th>day</th>\n",
       "      <th>day_of_week</th>\n",
       "    </tr>\n",
       "    <tr>\n",
       "      <th>date</th>\n",
       "      <th></th>\n",
       "      <th></th>\n",
       "      <th></th>\n",
       "      <th></th>\n",
       "      <th></th>\n",
       "      <th></th>\n",
       "      <th></th>\n",
       "      <th></th>\n",
       "      <th></th>\n",
       "    </tr>\n",
       "  </thead>\n",
       "  <tbody>\n",
       "    <tr>\n",
       "      <th>2018-01-01</th>\n",
       "      <td>1</td>\n",
       "      <td>0ofbQMrRDsUaVKq2mGLEAb</td>\n",
       "      <td>Havana</td>\n",
       "      <td>Camila Cabello</td>\n",
       "      <td>155633</td>\n",
       "      <td>1</td>\n",
       "      <td>2018</td>\n",
       "      <td>1</td>\n",
       "      <td>0</td>\n",
       "    </tr>\n",
       "    <tr>\n",
       "      <th>2018-01-01</th>\n",
       "      <td>2</td>\n",
       "      <td>0tgVpDi06FyKpA1z0VMD4v</td>\n",
       "      <td>Perfect</td>\n",
       "      <td>Ed Sheeran</td>\n",
       "      <td>134756</td>\n",
       "      <td>1</td>\n",
       "      <td>2018</td>\n",
       "      <td>1</td>\n",
       "      <td>0</td>\n",
       "    </tr>\n",
       "    <tr>\n",
       "      <th>2018-01-01</th>\n",
       "      <td>3</td>\n",
       "      <td>3hBBKuWJfxlIlnd9QFoC8k</td>\n",
       "      <td>What Lovers Do (feat. SZA)</td>\n",
       "      <td>Maroon 5</td>\n",
       "      <td>130898</td>\n",
       "      <td>1</td>\n",
       "      <td>2018</td>\n",
       "      <td>1</td>\n",
       "      <td>0</td>\n",
       "    </tr>\n",
       "    <tr>\n",
       "      <th>2018-01-01</th>\n",
       "      <td>4</td>\n",
       "      <td>1mXVgsBdtIVeCLJnSnmtdV</td>\n",
       "      <td>Too Good At Goodbyes</td>\n",
       "      <td>Sam Smith</td>\n",
       "      <td>130798</td>\n",
       "      <td>1</td>\n",
       "      <td>2018</td>\n",
       "      <td>1</td>\n",
       "      <td>0</td>\n",
       "    </tr>\n",
       "    <tr>\n",
       "      <th>2018-01-01</th>\n",
       "      <td>5</td>\n",
       "      <td>2ekn2ttSfGqwhhate0LSR0</td>\n",
       "      <td>New Rules</td>\n",
       "      <td>Dua Lipa</td>\n",
       "      <td>125472</td>\n",
       "      <td>1</td>\n",
       "      <td>2018</td>\n",
       "      <td>1</td>\n",
       "      <td>0</td>\n",
       "    </tr>\n",
       "    <tr>\n",
       "      <th>...</th>\n",
       "      <td>...</td>\n",
       "      <td>...</td>\n",
       "      <td>...</td>\n",
       "      <td>...</td>\n",
       "      <td>...</td>\n",
       "      <td>...</td>\n",
       "      <td>...</td>\n",
       "      <td>...</td>\n",
       "      <td>...</td>\n",
       "    </tr>\n",
       "    <tr>\n",
       "      <th>2020-09-15</th>\n",
       "      <td>196</td>\n",
       "      <td>2aI2k39nfa3KFsa4JclQzw</td>\n",
       "      <td>DDU-DU DDU-DU</td>\n",
       "      <td>BLACKPINK</td>\n",
       "      <td>26632</td>\n",
       "      <td>9</td>\n",
       "      <td>2020</td>\n",
       "      <td>15</td>\n",
       "      <td>1</td>\n",
       "    </tr>\n",
       "    <tr>\n",
       "      <th>2020-09-15</th>\n",
       "      <td>197</td>\n",
       "      <td>2JoZzpdeP2G6Csfdq5aLXP</td>\n",
       "      <td>How Deep Is Your Love</td>\n",
       "      <td>Bee Gees</td>\n",
       "      <td>26559</td>\n",
       "      <td>9</td>\n",
       "      <td>2020</td>\n",
       "      <td>15</td>\n",
       "      <td>1</td>\n",
       "    </tr>\n",
       "    <tr>\n",
       "      <th>2020-09-15</th>\n",
       "      <td>198</td>\n",
       "      <td>0tgVpDi06FyKpA1z0VMD4v</td>\n",
       "      <td>Perfect</td>\n",
       "      <td>Ed Sheeran</td>\n",
       "      <td>26529</td>\n",
       "      <td>9</td>\n",
       "      <td>2020</td>\n",
       "      <td>15</td>\n",
       "      <td>1</td>\n",
       "    </tr>\n",
       "    <tr>\n",
       "      <th>2020-09-15</th>\n",
       "      <td>199</td>\n",
       "      <td>4enEJGj42a9Nk9Gh7DNhWL</td>\n",
       "      <td>Let Me Be The One</td>\n",
       "      <td>Jimmy Bondoc</td>\n",
       "      <td>26503</td>\n",
       "      <td>9</td>\n",
       "      <td>2020</td>\n",
       "      <td>15</td>\n",
       "      <td>1</td>\n",
       "    </tr>\n",
       "    <tr>\n",
       "      <th>2020-09-15</th>\n",
       "      <td>200</td>\n",
       "      <td>2Wo6QQD1KMDWeFkkjLqwx5</td>\n",
       "      <td>Roses - Imanbek Remix</td>\n",
       "      <td>SAINt JHN</td>\n",
       "      <td>26449</td>\n",
       "      <td>9</td>\n",
       "      <td>2020</td>\n",
       "      <td>15</td>\n",
       "      <td>1</td>\n",
       "    </tr>\n",
       "  </tbody>\n",
       "</table>\n",
       "<p>197800 rows × 9 columns</p>\n",
       "</div>"
      ],
      "text/plain": [
       "            position                track_id                  track_name  \\\n",
       "date                                                                       \n",
       "2018-01-01         1  0ofbQMrRDsUaVKq2mGLEAb                      Havana   \n",
       "2018-01-01         2  0tgVpDi06FyKpA1z0VMD4v                     Perfect   \n",
       "2018-01-01         3  3hBBKuWJfxlIlnd9QFoC8k  What Lovers Do (feat. SZA)   \n",
       "2018-01-01         4  1mXVgsBdtIVeCLJnSnmtdV        Too Good At Goodbyes   \n",
       "2018-01-01         5  2ekn2ttSfGqwhhate0LSR0                   New Rules   \n",
       "...              ...                     ...                         ...   \n",
       "2020-09-15       196  2aI2k39nfa3KFsa4JclQzw               DDU-DU DDU-DU   \n",
       "2020-09-15       197  2JoZzpdeP2G6Csfdq5aLXP       How Deep Is Your Love   \n",
       "2020-09-15       198  0tgVpDi06FyKpA1z0VMD4v                     Perfect   \n",
       "2020-09-15       199  4enEJGj42a9Nk9Gh7DNhWL           Let Me Be The One   \n",
       "2020-09-15       200  2Wo6QQD1KMDWeFkkjLqwx5       Roses - Imanbek Remix   \n",
       "\n",
       "                    artist  streams  month  year  day  day_of_week  \n",
       "date                                                                \n",
       "2018-01-01  Camila Cabello   155633      1  2018    1            0  \n",
       "2018-01-01      Ed Sheeran   134756      1  2018    1            0  \n",
       "2018-01-01        Maroon 5   130898      1  2018    1            0  \n",
       "2018-01-01       Sam Smith   130798      1  2018    1            0  \n",
       "2018-01-01        Dua Lipa   125472      1  2018    1            0  \n",
       "...                    ...      ...    ...   ...  ...          ...  \n",
       "2020-09-15       BLACKPINK    26632      9  2020   15            1  \n",
       "2020-09-15        Bee Gees    26559      9  2020   15            1  \n",
       "2020-09-15      Ed Sheeran    26529      9  2020   15            1  \n",
       "2020-09-15    Jimmy Bondoc    26503      9  2020   15            1  \n",
       "2020-09-15       SAINt JHN    26449      9  2020   15            1  \n",
       "\n",
       "[197800 rows x 9 columns]"
      ]
     },
     "execution_count": 81,
     "metadata": {},
     "output_type": "execute_result"
    }
   ],
   "source": [
    "df"
   ]
  },
  {
   "cell_type": "code",
   "execution_count": 82,
   "metadata": {
    "ExecuteTime": {
     "end_time": "2020-09-26T05:37:27.824187Z",
     "start_time": "2020-09-26T05:37:27.768221Z"
    }
   },
   "outputs": [
    {
     "data": {
      "text/html": [
       "<div>\n",
       "<style scoped>\n",
       "    .dataframe tbody tr th:only-of-type {\n",
       "        vertical-align: middle;\n",
       "    }\n",
       "\n",
       "    .dataframe tbody tr th {\n",
       "        vertical-align: top;\n",
       "    }\n",
       "\n",
       "    .dataframe thead th {\n",
       "        text-align: right;\n",
       "    }\n",
       "</style>\n",
       "<table border=\"1\" class=\"dataframe\">\n",
       "  <thead>\n",
       "    <tr style=\"text-align: right;\">\n",
       "      <th></th>\n",
       "      <th>date</th>\n",
       "      <th>position</th>\n",
       "      <th>track_id</th>\n",
       "      <th>track_name</th>\n",
       "      <th>artist</th>\n",
       "      <th>streams</th>\n",
       "      <th>month</th>\n",
       "      <th>year</th>\n",
       "      <th>day</th>\n",
       "      <th>day_of_week</th>\n",
       "    </tr>\n",
       "  </thead>\n",
       "  <tbody>\n",
       "    <tr>\n",
       "      <th>0</th>\n",
       "      <td>2018-01-01</td>\n",
       "      <td>1</td>\n",
       "      <td>0ofbQMrRDsUaVKq2mGLEAb</td>\n",
       "      <td>Havana</td>\n",
       "      <td>Camila Cabello</td>\n",
       "      <td>155633</td>\n",
       "      <td>1</td>\n",
       "      <td>2018</td>\n",
       "      <td>1</td>\n",
       "      <td>0</td>\n",
       "    </tr>\n",
       "    <tr>\n",
       "      <th>1</th>\n",
       "      <td>2018-01-01</td>\n",
       "      <td>2</td>\n",
       "      <td>0tgVpDi06FyKpA1z0VMD4v</td>\n",
       "      <td>Perfect</td>\n",
       "      <td>Ed Sheeran</td>\n",
       "      <td>134756</td>\n",
       "      <td>1</td>\n",
       "      <td>2018</td>\n",
       "      <td>1</td>\n",
       "      <td>0</td>\n",
       "    </tr>\n",
       "    <tr>\n",
       "      <th>2</th>\n",
       "      <td>2018-01-01</td>\n",
       "      <td>3</td>\n",
       "      <td>3hBBKuWJfxlIlnd9QFoC8k</td>\n",
       "      <td>What Lovers Do (feat. SZA)</td>\n",
       "      <td>Maroon 5</td>\n",
       "      <td>130898</td>\n",
       "      <td>1</td>\n",
       "      <td>2018</td>\n",
       "      <td>1</td>\n",
       "      <td>0</td>\n",
       "    </tr>\n",
       "    <tr>\n",
       "      <th>3</th>\n",
       "      <td>2018-01-01</td>\n",
       "      <td>4</td>\n",
       "      <td>1mXVgsBdtIVeCLJnSnmtdV</td>\n",
       "      <td>Too Good At Goodbyes</td>\n",
       "      <td>Sam Smith</td>\n",
       "      <td>130798</td>\n",
       "      <td>1</td>\n",
       "      <td>2018</td>\n",
       "      <td>1</td>\n",
       "      <td>0</td>\n",
       "    </tr>\n",
       "    <tr>\n",
       "      <th>4</th>\n",
       "      <td>2018-01-01</td>\n",
       "      <td>5</td>\n",
       "      <td>2ekn2ttSfGqwhhate0LSR0</td>\n",
       "      <td>New Rules</td>\n",
       "      <td>Dua Lipa</td>\n",
       "      <td>125472</td>\n",
       "      <td>1</td>\n",
       "      <td>2018</td>\n",
       "      <td>1</td>\n",
       "      <td>0</td>\n",
       "    </tr>\n",
       "    <tr>\n",
       "      <th>...</th>\n",
       "      <td>...</td>\n",
       "      <td>...</td>\n",
       "      <td>...</td>\n",
       "      <td>...</td>\n",
       "      <td>...</td>\n",
       "      <td>...</td>\n",
       "      <td>...</td>\n",
       "      <td>...</td>\n",
       "      <td>...</td>\n",
       "      <td>...</td>\n",
       "    </tr>\n",
       "    <tr>\n",
       "      <th>197795</th>\n",
       "      <td>2020-09-15</td>\n",
       "      <td>196</td>\n",
       "      <td>2aI2k39nfa3KFsa4JclQzw</td>\n",
       "      <td>DDU-DU DDU-DU</td>\n",
       "      <td>BLACKPINK</td>\n",
       "      <td>26632</td>\n",
       "      <td>9</td>\n",
       "      <td>2020</td>\n",
       "      <td>15</td>\n",
       "      <td>1</td>\n",
       "    </tr>\n",
       "    <tr>\n",
       "      <th>197796</th>\n",
       "      <td>2020-09-15</td>\n",
       "      <td>197</td>\n",
       "      <td>2JoZzpdeP2G6Csfdq5aLXP</td>\n",
       "      <td>How Deep Is Your Love</td>\n",
       "      <td>Bee Gees</td>\n",
       "      <td>26559</td>\n",
       "      <td>9</td>\n",
       "      <td>2020</td>\n",
       "      <td>15</td>\n",
       "      <td>1</td>\n",
       "    </tr>\n",
       "    <tr>\n",
       "      <th>197797</th>\n",
       "      <td>2020-09-15</td>\n",
       "      <td>198</td>\n",
       "      <td>0tgVpDi06FyKpA1z0VMD4v</td>\n",
       "      <td>Perfect</td>\n",
       "      <td>Ed Sheeran</td>\n",
       "      <td>26529</td>\n",
       "      <td>9</td>\n",
       "      <td>2020</td>\n",
       "      <td>15</td>\n",
       "      <td>1</td>\n",
       "    </tr>\n",
       "    <tr>\n",
       "      <th>197798</th>\n",
       "      <td>2020-09-15</td>\n",
       "      <td>199</td>\n",
       "      <td>4enEJGj42a9Nk9Gh7DNhWL</td>\n",
       "      <td>Let Me Be The One</td>\n",
       "      <td>Jimmy Bondoc</td>\n",
       "      <td>26503</td>\n",
       "      <td>9</td>\n",
       "      <td>2020</td>\n",
       "      <td>15</td>\n",
       "      <td>1</td>\n",
       "    </tr>\n",
       "    <tr>\n",
       "      <th>197799</th>\n",
       "      <td>2020-09-15</td>\n",
       "      <td>200</td>\n",
       "      <td>2Wo6QQD1KMDWeFkkjLqwx5</td>\n",
       "      <td>Roses - Imanbek Remix</td>\n",
       "      <td>SAINt JHN</td>\n",
       "      <td>26449</td>\n",
       "      <td>9</td>\n",
       "      <td>2020</td>\n",
       "      <td>15</td>\n",
       "      <td>1</td>\n",
       "    </tr>\n",
       "  </tbody>\n",
       "</table>\n",
       "<p>197800 rows × 10 columns</p>\n",
       "</div>"
      ],
      "text/plain": [
       "             date  position                track_id  \\\n",
       "0      2018-01-01         1  0ofbQMrRDsUaVKq2mGLEAb   \n",
       "1      2018-01-01         2  0tgVpDi06FyKpA1z0VMD4v   \n",
       "2      2018-01-01         3  3hBBKuWJfxlIlnd9QFoC8k   \n",
       "3      2018-01-01         4  1mXVgsBdtIVeCLJnSnmtdV   \n",
       "4      2018-01-01         5  2ekn2ttSfGqwhhate0LSR0   \n",
       "...           ...       ...                     ...   \n",
       "197795 2020-09-15       196  2aI2k39nfa3KFsa4JclQzw   \n",
       "197796 2020-09-15       197  2JoZzpdeP2G6Csfdq5aLXP   \n",
       "197797 2020-09-15       198  0tgVpDi06FyKpA1z0VMD4v   \n",
       "197798 2020-09-15       199  4enEJGj42a9Nk9Gh7DNhWL   \n",
       "197799 2020-09-15       200  2Wo6QQD1KMDWeFkkjLqwx5   \n",
       "\n",
       "                        track_name          artist  streams  month  year  day  \\\n",
       "0                           Havana  Camila Cabello   155633      1  2018    1   \n",
       "1                          Perfect      Ed Sheeran   134756      1  2018    1   \n",
       "2       What Lovers Do (feat. SZA)        Maroon 5   130898      1  2018    1   \n",
       "3             Too Good At Goodbyes       Sam Smith   130798      1  2018    1   \n",
       "4                        New Rules        Dua Lipa   125472      1  2018    1   \n",
       "...                            ...             ...      ...    ...   ...  ...   \n",
       "197795               DDU-DU DDU-DU       BLACKPINK    26632      9  2020   15   \n",
       "197796       How Deep Is Your Love        Bee Gees    26559      9  2020   15   \n",
       "197797                     Perfect      Ed Sheeran    26529      9  2020   15   \n",
       "197798           Let Me Be The One    Jimmy Bondoc    26503      9  2020   15   \n",
       "197799       Roses - Imanbek Remix       SAINt JHN    26449      9  2020   15   \n",
       "\n",
       "        day_of_week  \n",
       "0                 0  \n",
       "1                 0  \n",
       "2                 0  \n",
       "3                 0  \n",
       "4                 0  \n",
       "...             ...  \n",
       "197795            1  \n",
       "197796            1  \n",
       "197797            1  \n",
       "197798            1  \n",
       "197799            1  \n",
       "\n",
       "[197800 rows x 10 columns]"
      ]
     },
     "execution_count": 82,
     "metadata": {},
     "output_type": "execute_result"
    }
   ],
   "source": [
    "charts_df"
   ]
  },
  {
   "cell_type": "code",
   "execution_count": 189,
   "metadata": {
    "ExecuteTime": {
     "end_time": "2020-09-26T07:28:55.511636Z",
     "start_time": "2020-09-26T07:28:54.143421Z"
    }
   },
   "outputs": [
    {
     "data": {
      "text/plain": [
       "[<matplotlib.axis.YTick at 0x20ec6b885c0>,\n",
       " <matplotlib.axis.YTick at 0x20ec8341fd0>,\n",
       " <matplotlib.axis.YTick at 0x20ec86d3358>,\n",
       " <matplotlib.axis.YTick at 0x20ec6b786d8>,\n",
       " <matplotlib.axis.YTick at 0x20ec6b78a90>]"
      ]
     },
     "execution_count": 189,
     "metadata": {},
     "output_type": "execute_result"
    },
    {
     "data": {
      "image/png": "[encoded data removed]",
      "text/plain": [
       "<Figure size 576x432 with 2 Axes>"
      ]
     },
     "metadata": {
      "needs_background": "light"
     },
     "output_type": "display_data"
    }
   ],
   "source": [
    "import matplotlib.pyplot as plt\n",
    "\n",
    "fig = plt.figure(figsize=(8,6))\n",
    "ax1= fig.add_subplot('211')\n",
    "\n",
    "df = charts_df.set_index('date').copy()\n",
    "ax1.plot(df[df['track_name']=='Kathang Isip']['streams'])\n",
    "ax1.plot(df[df['track_name']=='Lover']['streams'])\n",
    "ax1.plot(df[(df['track_name']=='Sa Ngalan Ng Pag-Ibig')]['streams'])\n",
    "ax1.plot(df[(df['track_name']=='7 rings')]['streams'])\n",
    "ax1.plot(df[(df['track_name']=='Dynamite')]['streams'])\n",
    "\n",
    "ax2= fig.add_subplot('212')\n",
    "ax2.plot(df[df['track_name']=='Kathang Isip']['position'])\n",
    "ax2.plot(df[df['track_name']=='Lover']['position'])\n",
    "ax2.plot(df[(df['track_name']=='Sa Ngalan Ng Pag-Ibig')]['position'])\n",
    "ax2.plot(df[(df['track_name']=='7 rings')]['position'])\n",
    "ax2.plot(df[(df['track_name']=='Dynamite')]['position'])\n",
    "\n",
    "ax2.set_ylim([200,-20])\n",
    "ax2.set_yticks([1]+np.arange(50,201,50).tolist())\n"
   ]
  },
  {
   "cell_type": "code",
   "execution_count": 196,
   "metadata": {
    "ExecuteTime": {
     "end_time": "2020-09-26T07:31:31.386466Z",
     "start_time": "2020-09-26T07:31:29.939292Z"
    }
   },
   "outputs": [
    {
     "data": {
      "text/plain": [
       "[<matplotlib.axis.YTick at 0x20ec7e39208>,\n",
       " <matplotlib.axis.YTick at 0x20ec7e17b00>,\n",
       " <matplotlib.axis.YTick at 0x20ec7e10b00>,\n",
       " <matplotlib.axis.YTick at 0x20ec7dec160>,\n",
       " <matplotlib.axis.YTick at 0x20ec7dec5f8>]"
      ]
     },
     "execution_count": 196,
     "metadata": {},
     "output_type": "execute_result"
    },
    {
     "data": {
      "image/png": "[encoded data removed]",
      "text/plain": [
       "<Figure size 576x432 with 2 Axes>"
      ]
     },
     "metadata": {
      "needs_background": "light"
     },
     "output_type": "display_data"
    }
   ],
   "source": [
    "fig = plt.figure(figsize=(8,6))\n",
    "ax1= fig.add_subplot('211')\n",
    "ax2= fig.add_subplot('212')\n",
    "\n",
    "\n",
    "dates_df = pd.DataFrame({'date':pd.date_range(start='2018-01-01',end='2020-09-15')}).set_index('date')\n",
    "ddf = charts_df.groupby(['date','artist']).agg({'streams':np.sum,'position':np.min}).reset_index().set_index('date')\n",
    "#df['date'] = pd.to_datetime(df['date'])\n",
    "\n",
    "for artist in ['Ben&Ben','BTS']:\n",
    "    data_df = dates_df.join(ddf[ddf['artist']==artist], on='date')\n",
    "    ax1.plot(data_df['streams'])#.rolling(7).mean())\n",
    "    ax2.plot(data_df['position'])#.rolling(7).mean())\n",
    "\n",
    "\n",
    "ax2.set_ylim([200,-20])\n",
    "ax2.set_yticks([1]+np.arange(50,201,50).tolist())"
   ]
  },
  {
   "cell_type": "code",
   "execution_count": 199,
   "metadata": {
    "ExecuteTime": {
     "end_time": "2020-09-26T15:32:32.987620Z",
     "start_time": "2020-09-26T15:32:29.113831Z"
    }
   },
   "outputs": [
    {
     "data": {
      "text/html": [
       "<div>\n",
       "<style scoped>\n",
       "    .dataframe tbody tr th:only-of-type {\n",
       "        vertical-align: middle;\n",
       "    }\n",
       "\n",
       "    .dataframe tbody tr th {\n",
       "        vertical-align: top;\n",
       "    }\n",
       "\n",
       "    .dataframe thead th {\n",
       "        text-align: right;\n",
       "    }\n",
       "</style>\n",
       "<table border=\"1\" class=\"dataframe\">\n",
       "  <thead>\n",
       "    <tr style=\"text-align: right;\">\n",
       "      <th></th>\n",
       "      <th>artist</th>\n",
       "      <th>track_name</th>\n",
       "      <th>streams</th>\n",
       "      <th>position</th>\n",
       "    </tr>\n",
       "    <tr>\n",
       "      <th>date</th>\n",
       "      <th></th>\n",
       "      <th></th>\n",
       "      <th></th>\n",
       "      <th></th>\n",
       "    </tr>\n",
       "  </thead>\n",
       "  <tbody>\n",
       "    <tr>\n",
       "      <th>2018-01-01</th>\n",
       "      <td>6cyclemind</td>\n",
       "      <td>Prinsesa</td>\n",
       "      <td>15742</td>\n",
       "      <td>190</td>\n",
       "    </tr>\n",
       "    <tr>\n",
       "      <th>2018-01-01</th>\n",
       "      <td>Adam Levine</td>\n",
       "      <td>Lost Stars</td>\n",
       "      <td>16440</td>\n",
       "      <td>174</td>\n",
       "    </tr>\n",
       "    <tr>\n",
       "      <th>2018-01-01</th>\n",
       "      <td>Al James</td>\n",
       "      <td>Ngayong Gabi</td>\n",
       "      <td>17246</td>\n",
       "      <td>162</td>\n",
       "    </tr>\n",
       "    <tr>\n",
       "      <th>2018-01-01</th>\n",
       "      <td>Alan Walker</td>\n",
       "      <td>All Falls Down (feat. Juliander)</td>\n",
       "      <td>45207</td>\n",
       "      <td>52</td>\n",
       "    </tr>\n",
       "    <tr>\n",
       "      <th>2018-01-01</th>\n",
       "      <td>Andy Grammer</td>\n",
       "      <td>Fresh Eyes</td>\n",
       "      <td>46198</td>\n",
       "      <td>51</td>\n",
       "    </tr>\n",
       "    <tr>\n",
       "      <th>...</th>\n",
       "      <td>...</td>\n",
       "      <td>...</td>\n",
       "      <td>...</td>\n",
       "      <td>...</td>\n",
       "    </tr>\n",
       "    <tr>\n",
       "      <th>2020-09-15</th>\n",
       "      <td>Why Don't We</td>\n",
       "      <td>What Am I</td>\n",
       "      <td>28977</td>\n",
       "      <td>164</td>\n",
       "    </tr>\n",
       "    <tr>\n",
       "      <th>2020-09-15</th>\n",
       "      <td>Zac Efron</td>\n",
       "      <td>Rewrite The Stars</td>\n",
       "      <td>32516</td>\n",
       "      <td>133</td>\n",
       "    </tr>\n",
       "    <tr>\n",
       "      <th>2020-09-15</th>\n",
       "      <td>juan karlos</td>\n",
       "      <td>Buwan</td>\n",
       "      <td>30120</td>\n",
       "      <td>153</td>\n",
       "    </tr>\n",
       "    <tr>\n",
       "      <th>2020-09-15</th>\n",
       "      <td>krissy &amp; ericka</td>\n",
       "      <td>12:51</td>\n",
       "      <td>31459</td>\n",
       "      <td>141</td>\n",
       "    </tr>\n",
       "    <tr>\n",
       "      <th>2020-09-15</th>\n",
       "      <td>salem ilese</td>\n",
       "      <td>Mad at Disney</td>\n",
       "      <td>48300</td>\n",
       "      <td>73</td>\n",
       "    </tr>\n",
       "  </tbody>\n",
       "</table>\n",
       "<p>197636 rows × 4 columns</p>\n",
       "</div>"
      ],
      "text/plain": [
       "                     artist                        track_name  streams  \\\n",
       "date                                                                     \n",
       "2018-01-01       6cyclemind                          Prinsesa    15742   \n",
       "2018-01-01      Adam Levine                        Lost Stars    16440   \n",
       "2018-01-01         Al James                      Ngayong Gabi    17246   \n",
       "2018-01-01      Alan Walker  All Falls Down (feat. Juliander)    45207   \n",
       "2018-01-01     Andy Grammer                        Fresh Eyes    46198   \n",
       "...                     ...                               ...      ...   \n",
       "2020-09-15     Why Don't We                         What Am I    28977   \n",
       "2020-09-15        Zac Efron                 Rewrite The Stars    32516   \n",
       "2020-09-15      juan karlos                             Buwan    30120   \n",
       "2020-09-15  krissy & ericka                             12:51    31459   \n",
       "2020-09-15      salem ilese                     Mad at Disney    48300   \n",
       "\n",
       "            position  \n",
       "date                  \n",
       "2018-01-01       190  \n",
       "2018-01-01       174  \n",
       "2018-01-01       162  \n",
       "2018-01-01        52  \n",
       "2018-01-01        51  \n",
       "...              ...  \n",
       "2020-09-15       164  \n",
       "2020-09-15       133  \n",
       "2020-09-15       153  \n",
       "2020-09-15       141  \n",
       "2020-09-15        73  \n",
       "\n",
       "[197636 rows x 4 columns]"
      ]
     },
     "execution_count": 199,
     "metadata": {},
     "output_type": "execute_result"
    }
   ],
   "source": [
    "ddf"
   ]
  },
  {
   "cell_type": "code",
   "execution_count": 198,
   "metadata": {
    "ExecuteTime": {
     "end_time": "2020-09-26T15:19:58.307422Z",
     "start_time": "2020-09-26T15:19:54.190778Z"
    }
   },
   "outputs": [
    {
     "name": "stdout",
     "output_type": "stream",
     "text": [
      "['Kathang Isip' 'Maybe The Night' 'Leaves' 'Ride Home' 'SUNRISE'\n",
      " 'Susi (From the Film \"GOYO - Ang Batang Heneral\")' 'Branches' 'Ours'\n",
      " 'Bibingka' 'Dati - Cover Version' 'Mitsa (Salamat)'\n",
      " 'Beautiful Girl - Recorded at Kodama Studios, Philippines' 'Araw-Araw'\n",
      " 'Pagtingin' 'Masyado Pang Maaga' 'Make It With You' 'Fall'\n",
      " 'Sa Susunod na Habang Buhay' 'War' 'Doors' 'Lifetime'\n",
      " 'Nakikinig Ka Ba Sa Akin']\n",
      "['DNA' 'MIC Drop (feat. Desiigner) [Steve Aoki Remix]' nan\n",
      " \"Don't Leave Me\" 'Let Go' '134340' 'Airplane pt.2' 'Anpanman' 'FAKE LOVE'\n",
      " 'Intro: Singularity' 'Love Maze' 'Magic Shop' 'Outro: Tear' 'Paradise'\n",
      " 'So What' 'The Truth Untold' 'FAKE LOVE (Rocking Vibe Mix)'\n",
      " 'Answer : Love Myself' 'DNA (Pedal 2 LA Mix)' 'Epiphany' 'Euphoria'\n",
      " 'Go Go' \"I'm Fine\" 'IDOL' 'Outro: Her'\n",
      " 'Serendipity (Full Length Edition)' 'Trivia 承 : Love'\n",
      " 'Trivia 起 : Just Dance' 'Trivia 轉 : Seesaw' 'dimple' 'Best Of Me'\n",
      " 'MIC Drop (Steve Aoki Remix) [Full Length Edition]'\n",
      " 'Boy With Luv (feat. Halsey)' 'Dionysus' 'HOME' 'Intro : Persona'\n",
      " 'Jamais Vu' 'Make It Right' 'Mikrokosmos'\n",
      " 'Dream Glow (BTS World Original Soundtrack) - Pt. 1'\n",
      " 'A Brand New Day (BTS World Original Soundtrack) [Pt. 2]'\n",
      " 'All Night (BTS World Original Soundtrack) [Pt. 3]'\n",
      " 'Heartbeat (BTS World Original Soundtrack)' 'Lights'\n",
      " 'Make It Right (feat. Lauv)' 'Black Swan' '00:00 (Zero O’Clock)' 'Filter'\n",
      " 'Friends' 'Inner Child' 'Interlude : Shadow' 'Louder than bombs' 'Moon'\n",
      " 'My Time' 'ON' 'ON (Feat. Sia)' 'Outro : Ego' 'Respect' 'UGH!'\n",
      " 'We are Bulletproof : the Eternal' 'Stay Gold' 'INTRO : Calling'\n",
      " 'OUTRO : The Journey' 'Your eyes tell' 'Boy With Luv - Japanese ver.'\n",
      " 'Dynamite' 'Dynamite - Instrumental' 'Dynamite - Acoustic Remix'\n",
      " 'Dynamite - EDM Remix' 'Dynamite - Poolside Remix'\n",
      " 'Dynamite - Tropical Remix']\n"
     ]
    },
    {
     "data": {
      "text/plain": [
       "[<matplotlib.axis.YTick at 0x20ec898cb00>,\n",
       " <matplotlib.axis.YTick at 0x20ec898c438>,\n",
       " <matplotlib.axis.YTick at 0x20ec8986438>,\n",
       " <matplotlib.axis.YTick at 0x20ec8a0f7b8>,\n",
       " <matplotlib.axis.YTick at 0x20ec8a0fc88>]"
      ]
     },
     "execution_count": 198,
     "metadata": {},
     "output_type": "execute_result"
    },
    {
     "data": {
      "image/png": "[encoded data removed]",
      "text/plain": [
       "<Figure size 576x432 with 2 Axes>"
      ]
     },
     "metadata": {
      "needs_background": "light"
     },
     "output_type": "display_data"
    }
   ],
   "source": [
    "fig = plt.figure(figsize=(8,6))\n",
    "ax1= fig.add_subplot('211')\n",
    "ax2= fig.add_subplot('212')\n",
    "\n",
    "\n",
    "dates_df = pd.DataFrame({'date':pd.date_range(start='2018-01-01',end='2020-09-15')}).set_index('date')\n",
    "ddf = charts_df.groupby(['date','artist','track_name']).agg({'streams':np.sum,'position':np.min}).reset_index().set_index('date')\n",
    "#df['date'] = pd.to_datetime(df['date'])\n",
    "\n",
    "\n",
    "for n,artist in enumerate(['Ben&Ben','BTS']):\n",
    "    data_df = dates_df.join(ddf[ddf['artist']==artist], on='date')\n",
    "    print(data_df['track_name'].unique())\n",
    "    for track in data_df['track_name'].unique():\n",
    "        ax1.plot(data_df[data_df['track_name']==track]['streams'], \"C\"+str(n))#.rolling(7).mean())\n",
    "        ax2.plot(data_df[data_df['track_name']==track]['position'], \"C\"+str(n))#.rolling(7).mean())\n",
    "ax2.set_ylim([200,-20])\n",
    "ax2.set_yticks([1]+np.arange(50,201,50).tolist())"
   ]
  },
  {
   "cell_type": "code",
   "execution_count": null,
   "metadata": {},
   "outputs": [],
   "source": []
  },
  {
   "cell_type": "code",
   "execution_count": 77,
   "metadata": {
    "ExecuteTime": {
     "end_time": "2020-09-26T05:35:08.775735Z",
     "start_time": "2020-09-26T05:35:08.460917Z"
    }
   },
   "outputs": [
    {
     "data": {
      "text/html": [
       "<div>\n",
       "<style scoped>\n",
       "    .dataframe tbody tr th:only-of-type {\n",
       "        vertical-align: middle;\n",
       "    }\n",
       "\n",
       "    .dataframe tbody tr th {\n",
       "        vertical-align: top;\n",
       "    }\n",
       "\n",
       "    .dataframe thead th {\n",
       "        text-align: right;\n",
       "    }\n",
       "</style>\n",
       "<table border=\"1\" class=\"dataframe\">\n",
       "  <thead>\n",
       "    <tr style=\"text-align: right;\">\n",
       "      <th></th>\n",
       "      <th>date</th>\n",
       "      <th>position</th>\n",
       "      <th>track_id</th>\n",
       "      <th>track_name</th>\n",
       "      <th>artist</th>\n",
       "      <th>streams</th>\n",
       "      <th>month</th>\n",
       "      <th>year</th>\n",
       "      <th>day</th>\n",
       "      <th>day_of_week</th>\n",
       "    </tr>\n",
       "  </thead>\n",
       "  <tbody>\n",
       "    <tr>\n",
       "      <th>197652</th>\n",
       "      <td>2020-09-15</td>\n",
       "      <td>53</td>\n",
       "      <td>2BgD4nRyx9EZ5o8YEnjRSV</td>\n",
       "      <td>Kung 'Di Rin Lang Ikaw</td>\n",
       "      <td>December Avenue</td>\n",
       "      <td>58016</td>\n",
       "      <td>9</td>\n",
       "      <td>2020</td>\n",
       "      <td>15</td>\n",
       "      <td>1</td>\n",
       "    </tr>\n",
       "    <tr>\n",
       "      <th>197678</th>\n",
       "      <td>2020-09-15</td>\n",
       "      <td>79</td>\n",
       "      <td>00mBzIWv5gHOYxwuEJXjOG</td>\n",
       "      <td>Sa Ngalan Ng Pag-Ibig</td>\n",
       "      <td>December Avenue</td>\n",
       "      <td>44683</td>\n",
       "      <td>9</td>\n",
       "      <td>2020</td>\n",
       "      <td>15</td>\n",
       "      <td>1</td>\n",
       "    </tr>\n",
       "    <tr>\n",
       "      <th>197704</th>\n",
       "      <td>2020-09-15</td>\n",
       "      <td>105</td>\n",
       "      <td>24ngpWhBOxKJtIPnzSNX8c</td>\n",
       "      <td>Huling Sandali (Tayo Sa Huling Buwan Ng Taon O...</td>\n",
       "      <td>December Avenue</td>\n",
       "      <td>36022</td>\n",
       "      <td>9</td>\n",
       "      <td>2020</td>\n",
       "      <td>15</td>\n",
       "      <td>1</td>\n",
       "    </tr>\n",
       "  </tbody>\n",
       "</table>\n",
       "</div>"
      ],
      "text/plain": [
       "             date  position                track_id  \\\n",
       "197652 2020-09-15        53  2BgD4nRyx9EZ5o8YEnjRSV   \n",
       "197678 2020-09-15        79  00mBzIWv5gHOYxwuEJXjOG   \n",
       "197704 2020-09-15       105  24ngpWhBOxKJtIPnzSNX8c   \n",
       "\n",
       "                                               track_name           artist  \\\n",
       "197652                             Kung 'Di Rin Lang Ikaw  December Avenue   \n",
       "197678                              Sa Ngalan Ng Pag-Ibig  December Avenue   \n",
       "197704  Huling Sandali (Tayo Sa Huling Buwan Ng Taon O...  December Avenue   \n",
       "\n",
       "        streams  month  year  day  day_of_week  \n",
       "197652    58016      9  2020   15            1  \n",
       "197678    44683      9  2020   15            1  \n",
       "197704    36022      9  2020   15            1  "
      ]
     },
     "execution_count": 77,
     "metadata": {},
     "output_type": "execute_result"
    }
   ],
   "source": [
    "charts_df[(charts_df['artist'].str.contains('December Avenue'))&(charts_df['date']==charts_df['date'].max())]"
   ]
  },
  {
   "cell_type": "code",
   "execution_count": 50,
   "metadata": {
    "ExecuteTime": {
     "end_time": "2020-09-24T16:46:04.681094Z",
     "start_time": "2020-09-24T16:46:04.624126Z"
    }
   },
   "outputs": [
    {
     "data": {
      "text/plain": [
       "count    197800.000000\n",
       "mean      52119.772958\n",
       "std       42018.196845\n",
       "min       15287.000000\n",
       "25%       26968.000000\n",
       "50%       34626.500000\n",
       "75%       59291.250000\n",
       "max      514546.000000\n",
       "Name: streams, dtype: float64"
      ]
     },
     "execution_count": 50,
     "metadata": {},
     "output_type": "execute_result"
    }
   ],
   "source": [
    "charts_df['streams'].describe()"
   ]
  },
  {
   "cell_type": "markdown",
   "metadata": {},
   "source": [
    "The pandas GroupBy operator functions in the same way as pivot_table in excel\n",
    "\n",
    "The syntax is:\n",
    "```python\n",
    "df.groupby('index_column')['agg_column'].aggfunc\n",
    "df.groupby(['index_column1','index_column2']).agg('agg_column1':aggfunc1, 'agg_column2':aggfunc2)\n",
    "```\n"
   ]
  },
  {
   "cell_type": "code",
   "execution_count": 52,
   "metadata": {
    "ExecuteTime": {
     "end_time": "2020-09-24T16:46:39.052430Z",
     "start_time": "2020-09-24T16:46:38.859540Z"
    }
   },
   "outputs": [
    {
     "data": {
      "text/plain": [
       "year\n",
       "2018    3467089600\n",
       "2019    4081571771\n",
       "2020    2760629720\n",
       "Name: streams, dtype: int64"
      ]
     },
     "execution_count": 52,
     "metadata": {},
     "output_type": "execute_result"
    }
   ],
   "source": [
    "# Q: How many total streams did Spotify earn per year?\n",
    "charts_df.groupby('year')['streams'].sum()   #inputting a column name string in agg_column outputs a Series"
   ]
  },
  {
   "cell_type": "code",
   "execution_count": 53,
   "metadata": {
    "ExecuteTime": {
     "end_time": "2020-09-24T16:46:54.721468Z",
     "start_time": "2020-09-24T16:46:54.581550Z"
    }
   },
   "outputs": [
    {
     "data": {
      "text/html": [
       "<div>\n",
       "<style scoped>\n",
       "    .dataframe tbody tr th:only-of-type {\n",
       "        vertical-align: middle;\n",
       "    }\n",
       "\n",
       "    .dataframe tbody tr th {\n",
       "        vertical-align: top;\n",
       "    }\n",
       "\n",
       "    .dataframe thead th {\n",
       "        text-align: right;\n",
       "    }\n",
       "</style>\n",
       "<table border=\"1\" class=\"dataframe\">\n",
       "  <thead>\n",
       "    <tr style=\"text-align: right;\">\n",
       "      <th></th>\n",
       "      <th>streams</th>\n",
       "    </tr>\n",
       "    <tr>\n",
       "      <th>year</th>\n",
       "      <th></th>\n",
       "    </tr>\n",
       "  </thead>\n",
       "  <tbody>\n",
       "    <tr>\n",
       "      <th>2018</th>\n",
       "      <td>3467089600</td>\n",
       "    </tr>\n",
       "    <tr>\n",
       "      <th>2019</th>\n",
       "      <td>4081571771</td>\n",
       "    </tr>\n",
       "    <tr>\n",
       "      <th>2020</th>\n",
       "      <td>2760629720</td>\n",
       "    </tr>\n",
       "  </tbody>\n",
       "</table>\n",
       "</div>"
      ],
      "text/plain": [
       "         streams\n",
       "year            \n",
       "2018  3467089600\n",
       "2019  4081571771\n",
       "2020  2760629720"
      ]
     },
     "execution_count": 53,
     "metadata": {},
     "output_type": "execute_result"
    }
   ],
   "source": [
    "charts_df.groupby('year')[['streams']].sum()   #inputting a list in agg_column outputs a DataFrame"
   ]
  },
  {
   "cell_type": "markdown",
   "metadata": {},
   "source": [
    "> Q: How many streams did each of the 200 positions contribute to the annual streams of spotify?"
   ]
  },
  {
   "cell_type": "code",
   "execution_count": 54,
   "metadata": {
    "ExecuteTime": {
     "end_time": "2020-09-24T16:47:23.672903Z",
     "start_time": "2020-09-24T16:47:23.402060Z"
    }
   },
   "outputs": [
    {
     "data": {
      "text/html": [
       "<div>\n",
       "<style scoped>\n",
       "    .dataframe tbody tr th:only-of-type {\n",
       "        vertical-align: middle;\n",
       "    }\n",
       "\n",
       "    .dataframe tbody tr th {\n",
       "        vertical-align: top;\n",
       "    }\n",
       "\n",
       "    .dataframe thead th {\n",
       "        text-align: right;\n",
       "    }\n",
       "</style>\n",
       "<table border=\"1\" class=\"dataframe\">\n",
       "  <thead>\n",
       "    <tr style=\"text-align: right;\">\n",
       "      <th></th>\n",
       "      <th></th>\n",
       "      <th>streams</th>\n",
       "    </tr>\n",
       "    <tr>\n",
       "      <th>year</th>\n",
       "      <th>position</th>\n",
       "      <th></th>\n",
       "    </tr>\n",
       "  </thead>\n",
       "  <tbody>\n",
       "    <tr>\n",
       "      <th rowspan=\"5\" valign=\"top\">2018</th>\n",
       "      <th>1</th>\n",
       "      <td>84309969</td>\n",
       "    </tr>\n",
       "    <tr>\n",
       "      <th>2</th>\n",
       "      <td>72077911</td>\n",
       "    </tr>\n",
       "    <tr>\n",
       "      <th>3</th>\n",
       "      <td>66770318</td>\n",
       "    </tr>\n",
       "    <tr>\n",
       "      <th>4</th>\n",
       "      <td>63507534</td>\n",
       "    </tr>\n",
       "    <tr>\n",
       "      <th>5</th>\n",
       "      <td>60422355</td>\n",
       "    </tr>\n",
       "    <tr>\n",
       "      <th>...</th>\n",
       "      <th>...</th>\n",
       "      <td>...</td>\n",
       "    </tr>\n",
       "    <tr>\n",
       "      <th rowspan=\"5\" valign=\"top\">2020</th>\n",
       "      <th>196</th>\n",
       "      <td>6249376</td>\n",
       "    </tr>\n",
       "    <tr>\n",
       "      <th>197</th>\n",
       "      <td>6229542</td>\n",
       "    </tr>\n",
       "    <tr>\n",
       "      <th>198</th>\n",
       "      <td>6210949</td>\n",
       "    </tr>\n",
       "    <tr>\n",
       "      <th>199</th>\n",
       "      <td>6193245</td>\n",
       "    </tr>\n",
       "    <tr>\n",
       "      <th>200</th>\n",
       "      <td>6174691</td>\n",
       "    </tr>\n",
       "  </tbody>\n",
       "</table>\n",
       "<p>600 rows × 1 columns</p>\n",
       "</div>"
      ],
      "text/plain": [
       "                streams\n",
       "year position          \n",
       "2018 1         84309969\n",
       "     2         72077911\n",
       "     3         66770318\n",
       "     4         63507534\n",
       "     5         60422355\n",
       "...                 ...\n",
       "2020 196        6249376\n",
       "     197        6229542\n",
       "     198        6210949\n",
       "     199        6193245\n",
       "     200        6174691\n",
       "\n",
       "[600 rows x 1 columns]"
      ]
     },
     "execution_count": 54,
     "metadata": {},
     "output_type": "execute_result"
    }
   ],
   "source": [
    "charts_df.groupby(['year','position'])[['streams']].sum()   #inputting a list in agg_column outputs a DataFrame"
   ]
  },
  {
   "cell_type": "markdown",
   "metadata": {},
   "source": [
    "## 1. Combining using `pd.merge`"
   ]
  },
  {
   "cell_type": "markdown",
   "metadata": {},
   "source": [
    "- To keep every row in celeb_df then set the parameter `how` = 'right'."
   ]
  },
  {
   "cell_type": "code",
   "execution_count": 18,
   "metadata": {
    "ExecuteTime": {
     "end_time": "2020-04-23T15:31:33.140483Z",
     "start_time": "2020-04-23T15:31:33.076522Z"
    }
   },
   "outputs": [
    {
     "data": {
      "text/html": [
       "<div>\n",
       "<style scoped>\n",
       "    .dataframe tbody tr th:only-of-type {\n",
       "        vertical-align: middle;\n",
       "    }\n",
       "\n",
       "    .dataframe tbody tr th {\n",
       "        vertical-align: top;\n",
       "    }\n",
       "\n",
       "    .dataframe thead th {\n",
       "        text-align: right;\n",
       "    }\n",
       "</style>\n",
       "<table border=\"1\" class=\"dataframe\">\n",
       "  <thead>\n",
       "    <tr style=\"text-align: right;\">\n",
       "      <th></th>\n",
       "      <th>id</th>\n",
       "      <th>character_name</th>\n",
       "      <th>gender</th>\n",
       "      <th>celeb_name</th>\n",
       "    </tr>\n",
       "  </thead>\n",
       "  <tbody>\n",
       "    <tr>\n",
       "      <th>0</th>\n",
       "      <td>101</td>\n",
       "      <td>Iron Man</td>\n",
       "      <td>M</td>\n",
       "      <td>Robert Downey Jr</td>\n",
       "    </tr>\n",
       "    <tr>\n",
       "      <th>1</th>\n",
       "      <td>102</td>\n",
       "      <td>Thor</td>\n",
       "      <td>M</td>\n",
       "      <td>Chris Hemsworth</td>\n",
       "    </tr>\n",
       "    <tr>\n",
       "      <th>2</th>\n",
       "      <td>103</td>\n",
       "      <td>Captain America</td>\n",
       "      <td>M</td>\n",
       "      <td>Chris Evans</td>\n",
       "    </tr>\n",
       "    <tr>\n",
       "      <th>3</th>\n",
       "      <td>104</td>\n",
       "      <td>Black Widow</td>\n",
       "      <td>F</td>\n",
       "      <td>Scarlett Johansson</td>\n",
       "    </tr>\n",
       "    <tr>\n",
       "      <th>4</th>\n",
       "      <td>105</td>\n",
       "      <td>Hulk</td>\n",
       "      <td>M</td>\n",
       "      <td>Mark Ruffalo</td>\n",
       "    </tr>\n",
       "    <tr>\n",
       "      <th>5</th>\n",
       "      <td>106</td>\n",
       "      <td>Hawkeye</td>\n",
       "      <td>M</td>\n",
       "      <td>Jeremy Renner</td>\n",
       "    </tr>\n",
       "    <tr>\n",
       "      <th>6</th>\n",
       "      <td>107</td>\n",
       "      <td>NaN</td>\n",
       "      <td>NaN</td>\n",
       "      <td>Vic Sotto</td>\n",
       "    </tr>\n",
       "    <tr>\n",
       "      <th>7</th>\n",
       "      <td>108</td>\n",
       "      <td>NaN</td>\n",
       "      <td>NaN</td>\n",
       "      <td>Vice Ganda</td>\n",
       "    </tr>\n",
       "  </tbody>\n",
       "</table>\n",
       "</div>"
      ],
      "text/plain": [
       "    id   character_name gender          celeb_name\n",
       "0  101         Iron Man      M    Robert Downey Jr\n",
       "1  102             Thor      M     Chris Hemsworth\n",
       "2  103  Captain America      M         Chris Evans\n",
       "3  104      Black Widow      F  Scarlett Johansson\n",
       "4  105             Hulk      M        Mark Ruffalo\n",
       "5  106          Hawkeye      M       Jeremy Renner\n",
       "6  107              NaN    NaN           Vic Sotto\n",
       "7  108              NaN    NaN          Vice Ganda"
      ]
     },
     "execution_count": 18,
     "metadata": {},
     "output_type": "execute_result"
    }
   ],
   "source": [
    "merged_df = pd.merge(avengers_df, celeb_df, how='right')\n",
    "merged_df"
   ]
  },
  {
   "cell_type": "markdown",
   "metadata": {},
   "source": [
    "- To keep all rows from both dataframes, set the parameter `how` = 'outer'."
   ]
  },
  {
   "cell_type": "code",
   "execution_count": 19,
   "metadata": {
    "ExecuteTime": {
     "end_time": "2020-04-23T15:31:54.596506Z",
     "start_time": "2020-04-23T15:31:54.531544Z"
    },
    "scrolled": true
   },
   "outputs": [
    {
     "data": {
      "text/html": [
       "<div>\n",
       "<style scoped>\n",
       "    .dataframe tbody tr th:only-of-type {\n",
       "        vertical-align: middle;\n",
       "    }\n",
       "\n",
       "    .dataframe tbody tr th {\n",
       "        vertical-align: top;\n",
       "    }\n",
       "\n",
       "    .dataframe thead th {\n",
       "        text-align: right;\n",
       "    }\n",
       "</style>\n",
       "<table border=\"1\" class=\"dataframe\">\n",
       "  <thead>\n",
       "    <tr style=\"text-align: right;\">\n",
       "      <th></th>\n",
       "      <th>id</th>\n",
       "      <th>character_name</th>\n",
       "      <th>gender</th>\n",
       "      <th>celeb_name</th>\n",
       "    </tr>\n",
       "  </thead>\n",
       "  <tbody>\n",
       "    <tr>\n",
       "      <th>0</th>\n",
       "      <td>101</td>\n",
       "      <td>Iron Man</td>\n",
       "      <td>M</td>\n",
       "      <td>Robert Downey Jr</td>\n",
       "    </tr>\n",
       "    <tr>\n",
       "      <th>1</th>\n",
       "      <td>102</td>\n",
       "      <td>Thor</td>\n",
       "      <td>M</td>\n",
       "      <td>Chris Hemsworth</td>\n",
       "    </tr>\n",
       "    <tr>\n",
       "      <th>2</th>\n",
       "      <td>103</td>\n",
       "      <td>Captain America</td>\n",
       "      <td>M</td>\n",
       "      <td>Chris Evans</td>\n",
       "    </tr>\n",
       "    <tr>\n",
       "      <th>3</th>\n",
       "      <td>104</td>\n",
       "      <td>Black Widow</td>\n",
       "      <td>F</td>\n",
       "      <td>Scarlett Johansson</td>\n",
       "    </tr>\n",
       "    <tr>\n",
       "      <th>4</th>\n",
       "      <td>105</td>\n",
       "      <td>Hulk</td>\n",
       "      <td>M</td>\n",
       "      <td>Mark Ruffalo</td>\n",
       "    </tr>\n",
       "    <tr>\n",
       "      <th>5</th>\n",
       "      <td>106</td>\n",
       "      <td>Hawkeye</td>\n",
       "      <td>M</td>\n",
       "      <td>Jeremy Renner</td>\n",
       "    </tr>\n",
       "    <tr>\n",
       "      <th>6</th>\n",
       "      <td>107</td>\n",
       "      <td>NaN</td>\n",
       "      <td>NaN</td>\n",
       "      <td>Vic Sotto</td>\n",
       "    </tr>\n",
       "    <tr>\n",
       "      <th>7</th>\n",
       "      <td>108</td>\n",
       "      <td>NaN</td>\n",
       "      <td>NaN</td>\n",
       "      <td>Vice Ganda</td>\n",
       "    </tr>\n",
       "  </tbody>\n",
       "</table>\n",
       "</div>"
      ],
      "text/plain": [
       "    id   character_name gender          celeb_name\n",
       "0  101         Iron Man      M    Robert Downey Jr\n",
       "1  102             Thor      M     Chris Hemsworth\n",
       "2  103  Captain America      M         Chris Evans\n",
       "3  104      Black Widow      F  Scarlett Johansson\n",
       "4  105             Hulk      M        Mark Ruffalo\n",
       "5  106          Hawkeye      M       Jeremy Renner\n",
       "6  107              NaN    NaN           Vic Sotto\n",
       "7  108              NaN    NaN          Vice Ganda"
      ]
     },
     "execution_count": 19,
     "metadata": {},
     "output_type": "execute_result"
    }
   ],
   "source": [
    "merged_df = pd.merge(avengers_df, celeb_df, how='outer')\n",
    "merged_df"
   ]
  },
  {
   "cell_type": "markdown",
   "metadata": {},
   "source": [
    "-------"
   ]
  },
  {
   "cell_type": "code",
   "execution_count": 48,
   "metadata": {
    "ExecuteTime": {
     "end_time": "2020-04-23T16:08:27.099001Z",
     "start_time": "2020-04-23T16:08:25.909691Z"
    },
    "scrolled": true
   },
   "outputs": [
    {
     "data": {
      "text/html": [
       "<div>\n",
       "<style scoped>\n",
       "    .dataframe tbody tr th:only-of-type {\n",
       "        vertical-align: middle;\n",
       "    }\n",
       "\n",
       "    .dataframe tbody tr th {\n",
       "        vertical-align: top;\n",
       "    }\n",
       "\n",
       "    .dataframe thead th {\n",
       "        text-align: right;\n",
       "    }\n",
       "</style>\n",
       "<table border=\"1\" class=\"dataframe\">\n",
       "  <thead>\n",
       "    <tr style=\"text-align: right;\">\n",
       "      <th></th>\n",
       "      <th>date</th>\n",
       "      <th>position</th>\n",
       "      <th>track_name_x</th>\n",
       "      <th>artist</th>\n",
       "      <th>streams</th>\n",
       "      <th>track_id</th>\n",
       "      <th>Unnamed: 0</th>\n",
       "      <th>index</th>\n",
       "      <th>track_name_y</th>\n",
       "      <th>artist_id</th>\n",
       "      <th>...</th>\n",
       "      <th>speechiness</th>\n",
       "      <th>acousticness</th>\n",
       "      <th>instrumentalness</th>\n",
       "      <th>liveness</th>\n",
       "      <th>valence</th>\n",
       "      <th>tempo</th>\n",
       "      <th>duration_mins</th>\n",
       "      <th>release_year</th>\n",
       "      <th>release_month</th>\n",
       "      <th>release_day</th>\n",
       "    </tr>\n",
       "  </thead>\n",
       "  <tbody>\n",
       "    <tr>\n",
       "      <th>0</th>\n",
       "      <td>2017-01-01</td>\n",
       "      <td>1</td>\n",
       "      <td>Versace on the Floor</td>\n",
       "      <td>Bruno Mars</td>\n",
       "      <td>185236</td>\n",
       "      <td>0kN8xEmgMW9mh7UmDYHlJP</td>\n",
       "      <td>0</td>\n",
       "      <td>0</td>\n",
       "      <td>Versace on the Floor</td>\n",
       "      <td>0du5cEVh5yTK9QJze8zA0C</td>\n",
       "      <td>...</td>\n",
       "      <td>0.0454</td>\n",
       "      <td>0.196</td>\n",
       "      <td>0.00000</td>\n",
       "      <td>0.0830</td>\n",
       "      <td>0.301</td>\n",
       "      <td>174.152</td>\n",
       "      <td>4.354000</td>\n",
       "      <td>2016.0</td>\n",
       "      <td>11.0</td>\n",
       "      <td>17.0</td>\n",
       "    </tr>\n",
       "    <tr>\n",
       "      <th>1</th>\n",
       "      <td>2017-01-01</td>\n",
       "      <td>2</td>\n",
       "      <td>Say You Won't Let Go</td>\n",
       "      <td>James Arthur</td>\n",
       "      <td>180552</td>\n",
       "      <td>5uCax9HTNlzGybIStD3vDh</td>\n",
       "      <td>1</td>\n",
       "      <td>1</td>\n",
       "      <td>Say You Won't Let Go</td>\n",
       "      <td>4IWBUUAFIplrNtaOHcJPRM</td>\n",
       "      <td>...</td>\n",
       "      <td>0.0590</td>\n",
       "      <td>0.695</td>\n",
       "      <td>0.00000</td>\n",
       "      <td>0.0902</td>\n",
       "      <td>0.494</td>\n",
       "      <td>85.043</td>\n",
       "      <td>3.524433</td>\n",
       "      <td>2016.0</td>\n",
       "      <td>10.0</td>\n",
       "      <td>28.0</td>\n",
       "    </tr>\n",
       "    <tr>\n",
       "      <th>2</th>\n",
       "      <td>2017-01-01</td>\n",
       "      <td>3</td>\n",
       "      <td>Closer</td>\n",
       "      <td>The Chainsmokers</td>\n",
       "      <td>158720</td>\n",
       "      <td>7BKLCZ1jbUBVqRi2FVlTVw</td>\n",
       "      <td>2</td>\n",
       "      <td>2</td>\n",
       "      <td>Closer</td>\n",
       "      <td>69GGBxA162lTqCwzJG5jLp</td>\n",
       "      <td>...</td>\n",
       "      <td>0.0338</td>\n",
       "      <td>0.414</td>\n",
       "      <td>0.00000</td>\n",
       "      <td>0.1110</td>\n",
       "      <td>0.661</td>\n",
       "      <td>95.010</td>\n",
       "      <td>4.082667</td>\n",
       "      <td>2016.0</td>\n",
       "      <td>7.0</td>\n",
       "      <td>29.0</td>\n",
       "    </tr>\n",
       "    <tr>\n",
       "      <th>3</th>\n",
       "      <td>2017-01-01</td>\n",
       "      <td>4</td>\n",
       "      <td>All We Know</td>\n",
       "      <td>The Chainsmokers</td>\n",
       "      <td>130874</td>\n",
       "      <td>2rizacJSyD9S1IQUxUxnsK</td>\n",
       "      <td>3</td>\n",
       "      <td>3</td>\n",
       "      <td>All We Know</td>\n",
       "      <td>69GGBxA162lTqCwzJG5jLp</td>\n",
       "      <td>...</td>\n",
       "      <td>0.0307</td>\n",
       "      <td>0.097</td>\n",
       "      <td>0.00272</td>\n",
       "      <td>0.1150</td>\n",
       "      <td>0.296</td>\n",
       "      <td>90.000</td>\n",
       "      <td>3.234667</td>\n",
       "      <td>2016.0</td>\n",
       "      <td>9.0</td>\n",
       "      <td>29.0</td>\n",
       "    </tr>\n",
       "    <tr>\n",
       "      <th>4</th>\n",
       "      <td>2017-01-01</td>\n",
       "      <td>5</td>\n",
       "      <td>Don't Wanna Know</td>\n",
       "      <td>Maroon 5</td>\n",
       "      <td>129656</td>\n",
       "      <td>5MFzQMkrl1FOOng9tq6R9r</td>\n",
       "      <td>4</td>\n",
       "      <td>4</td>\n",
       "      <td>Don't Wanna Know</td>\n",
       "      <td>04gDigrS5kc9YWfZHwBETP</td>\n",
       "      <td>...</td>\n",
       "      <td>0.0800</td>\n",
       "      <td>0.338</td>\n",
       "      <td>0.00000</td>\n",
       "      <td>0.0975</td>\n",
       "      <td>0.447</td>\n",
       "      <td>100.048</td>\n",
       "      <td>3.574667</td>\n",
       "      <td>2016.0</td>\n",
       "      <td>10.0</td>\n",
       "      <td>11.0</td>\n",
       "    </tr>\n",
       "  </tbody>\n",
       "</table>\n",
       "<p>5 rows × 29 columns</p>\n",
       "</div>"
      ],
      "text/plain": [
       "         date  position          track_name_x            artist  streams  \\\n",
       "0  2017-01-01         1  Versace on the Floor        Bruno Mars   185236   \n",
       "1  2017-01-01         2  Say You Won't Let Go      James Arthur   180552   \n",
       "2  2017-01-01         3                Closer  The Chainsmokers   158720   \n",
       "3  2017-01-01         4           All We Know  The Chainsmokers   130874   \n",
       "4  2017-01-01         5      Don't Wanna Know          Maroon 5   129656   \n",
       "\n",
       "                 track_id  Unnamed: 0  index          track_name_y  \\\n",
       "0  0kN8xEmgMW9mh7UmDYHlJP           0      0  Versace on the Floor   \n",
       "1  5uCax9HTNlzGybIStD3vDh           1      1  Say You Won't Let Go   \n",
       "2  7BKLCZ1jbUBVqRi2FVlTVw           2      2                Closer   \n",
       "3  2rizacJSyD9S1IQUxUxnsK           3      3           All We Know   \n",
       "4  5MFzQMkrl1FOOng9tq6R9r           4      4      Don't Wanna Know   \n",
       "\n",
       "                artist_id  ... speechiness  acousticness instrumentalness  \\\n",
       "0  0du5cEVh5yTK9QJze8zA0C  ...      0.0454         0.196          0.00000   \n",
       "1  4IWBUUAFIplrNtaOHcJPRM  ...      0.0590         0.695          0.00000   \n",
       "2  69GGBxA162lTqCwzJG5jLp  ...      0.0338         0.414          0.00000   \n",
       "3  69GGBxA162lTqCwzJG5jLp  ...      0.0307         0.097          0.00272   \n",
       "4  04gDigrS5kc9YWfZHwBETP  ...      0.0800         0.338          0.00000   \n",
       "\n",
       "   liveness  valence    tempo  duration_mins  release_year  release_month  \\\n",
       "0    0.0830    0.301  174.152       4.354000        2016.0           11.0   \n",
       "1    0.0902    0.494   85.043       3.524433        2016.0           10.0   \n",
       "2    0.1110    0.661   95.010       4.082667        2016.0            7.0   \n",
       "3    0.1150    0.296   90.000       3.234667        2016.0            9.0   \n",
       "4    0.0975    0.447  100.048       3.574667        2016.0           10.0   \n",
       "\n",
       "   release_day  \n",
       "0         17.0  \n",
       "1         28.0  \n",
       "2         29.0  \n",
       "3         29.0  \n",
       "4         11.0  \n",
       "\n",
       "[5 rows x 29 columns]"
      ]
     },
     "execution_count": 48,
     "metadata": {},
     "output_type": "execute_result"
    }
   ],
   "source": [
    "df_streams = df_chart.merge(df_tracks, on='track_id', how='left')\n",
    "df_streams.head()"
   ]
  },
  {
   "cell_type": "code",
   "execution_count": 49,
   "metadata": {
    "ExecuteTime": {
     "end_time": "2020-04-23T16:08:28.265332Z",
     "start_time": "2020-04-23T16:08:27.109995Z"
    }
   },
   "outputs": [
    {
     "data": {
      "text/html": [
       "<div>\n",
       "<style scoped>\n",
       "    .dataframe tbody tr th:only-of-type {\n",
       "        vertical-align: middle;\n",
       "    }\n",
       "\n",
       "    .dataframe tbody tr th {\n",
       "        vertical-align: top;\n",
       "    }\n",
       "\n",
       "    .dataframe thead th {\n",
       "        text-align: right;\n",
       "    }\n",
       "</style>\n",
       "<table border=\"1\" class=\"dataframe\">\n",
       "  <thead>\n",
       "    <tr style=\"text-align: right;\">\n",
       "      <th></th>\n",
       "      <th>date</th>\n",
       "      <th>position</th>\n",
       "      <th>track_name</th>\n",
       "      <th>artist</th>\n",
       "      <th>streams</th>\n",
       "      <th>track_id</th>\n",
       "      <th>artist_id</th>\n",
       "      <th>album_id</th>\n",
       "      <th>duration</th>\n",
       "      <th>release_date</th>\n",
       "      <th>...</th>\n",
       "      <th>speechiness</th>\n",
       "      <th>acousticness</th>\n",
       "      <th>instrumentalness</th>\n",
       "      <th>liveness</th>\n",
       "      <th>valence</th>\n",
       "      <th>tempo</th>\n",
       "      <th>duration_mins</th>\n",
       "      <th>release_year</th>\n",
       "      <th>release_month</th>\n",
       "      <th>release_day</th>\n",
       "    </tr>\n",
       "  </thead>\n",
       "  <tbody>\n",
       "    <tr>\n",
       "      <th>0</th>\n",
       "      <td>2017-01-01</td>\n",
       "      <td>1</td>\n",
       "      <td>Versace on the Floor</td>\n",
       "      <td>Bruno Mars</td>\n",
       "      <td>185236</td>\n",
       "      <td>0kN8xEmgMW9mh7UmDYHlJP</td>\n",
       "      <td>0du5cEVh5yTK9QJze8zA0C</td>\n",
       "      <td>4PgleR09JVnm3zY1fW3XBA</td>\n",
       "      <td>261240</td>\n",
       "      <td>2016-11-17</td>\n",
       "      <td>...</td>\n",
       "      <td>0.0454</td>\n",
       "      <td>0.196</td>\n",
       "      <td>0.00000</td>\n",
       "      <td>0.0830</td>\n",
       "      <td>0.301</td>\n",
       "      <td>174.152</td>\n",
       "      <td>4.354000</td>\n",
       "      <td>2016.0</td>\n",
       "      <td>11.0</td>\n",
       "      <td>17.0</td>\n",
       "    </tr>\n",
       "    <tr>\n",
       "      <th>1</th>\n",
       "      <td>2017-01-01</td>\n",
       "      <td>2</td>\n",
       "      <td>Say You Won't Let Go</td>\n",
       "      <td>James Arthur</td>\n",
       "      <td>180552</td>\n",
       "      <td>5uCax9HTNlzGybIStD3vDh</td>\n",
       "      <td>4IWBUUAFIplrNtaOHcJPRM</td>\n",
       "      <td>7oiJYvEJHsmYtrgviAVIBD</td>\n",
       "      <td>211466</td>\n",
       "      <td>2016-10-28</td>\n",
       "      <td>...</td>\n",
       "      <td>0.0590</td>\n",
       "      <td>0.695</td>\n",
       "      <td>0.00000</td>\n",
       "      <td>0.0902</td>\n",
       "      <td>0.494</td>\n",
       "      <td>85.043</td>\n",
       "      <td>3.524433</td>\n",
       "      <td>2016.0</td>\n",
       "      <td>10.0</td>\n",
       "      <td>28.0</td>\n",
       "    </tr>\n",
       "    <tr>\n",
       "      <th>2</th>\n",
       "      <td>2017-01-01</td>\n",
       "      <td>3</td>\n",
       "      <td>Closer</td>\n",
       "      <td>The Chainsmokers</td>\n",
       "      <td>158720</td>\n",
       "      <td>7BKLCZ1jbUBVqRi2FVlTVw</td>\n",
       "      <td>69GGBxA162lTqCwzJG5jLp</td>\n",
       "      <td>0rSLgV8p5FzfnqlEk4GzxE</td>\n",
       "      <td>244960</td>\n",
       "      <td>2016-07-29</td>\n",
       "      <td>...</td>\n",
       "      <td>0.0338</td>\n",
       "      <td>0.414</td>\n",
       "      <td>0.00000</td>\n",
       "      <td>0.1110</td>\n",
       "      <td>0.661</td>\n",
       "      <td>95.010</td>\n",
       "      <td>4.082667</td>\n",
       "      <td>2016.0</td>\n",
       "      <td>7.0</td>\n",
       "      <td>29.0</td>\n",
       "    </tr>\n",
       "    <tr>\n",
       "      <th>3</th>\n",
       "      <td>2017-01-01</td>\n",
       "      <td>4</td>\n",
       "      <td>All We Know</td>\n",
       "      <td>The Chainsmokers</td>\n",
       "      <td>130874</td>\n",
       "      <td>2rizacJSyD9S1IQUxUxnsK</td>\n",
       "      <td>69GGBxA162lTqCwzJG5jLp</td>\n",
       "      <td>0xmaV6EtJ4M3ebZUPRnhyb</td>\n",
       "      <td>194080</td>\n",
       "      <td>2016-09-29</td>\n",
       "      <td>...</td>\n",
       "      <td>0.0307</td>\n",
       "      <td>0.097</td>\n",
       "      <td>0.00272</td>\n",
       "      <td>0.1150</td>\n",
       "      <td>0.296</td>\n",
       "      <td>90.000</td>\n",
       "      <td>3.234667</td>\n",
       "      <td>2016.0</td>\n",
       "      <td>9.0</td>\n",
       "      <td>29.0</td>\n",
       "    </tr>\n",
       "    <tr>\n",
       "      <th>4</th>\n",
       "      <td>2017-01-01</td>\n",
       "      <td>5</td>\n",
       "      <td>Don't Wanna Know</td>\n",
       "      <td>Maroon 5</td>\n",
       "      <td>129656</td>\n",
       "      <td>5MFzQMkrl1FOOng9tq6R9r</td>\n",
       "      <td>04gDigrS5kc9YWfZHwBETP</td>\n",
       "      <td>0fvTn3WXF39kQs9i3bnNpP</td>\n",
       "      <td>214480</td>\n",
       "      <td>2016-10-11</td>\n",
       "      <td>...</td>\n",
       "      <td>0.0800</td>\n",
       "      <td>0.338</td>\n",
       "      <td>0.00000</td>\n",
       "      <td>0.0975</td>\n",
       "      <td>0.447</td>\n",
       "      <td>100.048</td>\n",
       "      <td>3.574667</td>\n",
       "      <td>2016.0</td>\n",
       "      <td>10.0</td>\n",
       "      <td>11.0</td>\n",
       "    </tr>\n",
       "  </tbody>\n",
       "</table>\n",
       "<p>5 rows × 26 columns</p>\n",
       "</div>"
      ],
      "text/plain": [
       "         date  position            track_name            artist  streams  \\\n",
       "0  2017-01-01         1  Versace on the Floor        Bruno Mars   185236   \n",
       "1  2017-01-01         2  Say You Won't Let Go      James Arthur   180552   \n",
       "2  2017-01-01         3                Closer  The Chainsmokers   158720   \n",
       "3  2017-01-01         4           All We Know  The Chainsmokers   130874   \n",
       "4  2017-01-01         5      Don't Wanna Know          Maroon 5   129656   \n",
       "\n",
       "                 track_id               artist_id                album_id  \\\n",
       "0  0kN8xEmgMW9mh7UmDYHlJP  0du5cEVh5yTK9QJze8zA0C  4PgleR09JVnm3zY1fW3XBA   \n",
       "1  5uCax9HTNlzGybIStD3vDh  4IWBUUAFIplrNtaOHcJPRM  7oiJYvEJHsmYtrgviAVIBD   \n",
       "2  7BKLCZ1jbUBVqRi2FVlTVw  69GGBxA162lTqCwzJG5jLp  0rSLgV8p5FzfnqlEk4GzxE   \n",
       "3  2rizacJSyD9S1IQUxUxnsK  69GGBxA162lTqCwzJG5jLp  0xmaV6EtJ4M3ebZUPRnhyb   \n",
       "4  5MFzQMkrl1FOOng9tq6R9r  04gDigrS5kc9YWfZHwBETP  0fvTn3WXF39kQs9i3bnNpP   \n",
       "\n",
       "   duration release_date  ...  speechiness  acousticness  instrumentalness  \\\n",
       "0    261240   2016-11-17  ...       0.0454         0.196           0.00000   \n",
       "1    211466   2016-10-28  ...       0.0590         0.695           0.00000   \n",
       "2    244960   2016-07-29  ...       0.0338         0.414           0.00000   \n",
       "3    194080   2016-09-29  ...       0.0307         0.097           0.00272   \n",
       "4    214480   2016-10-11  ...       0.0800         0.338           0.00000   \n",
       "\n",
       "   liveness  valence    tempo  duration_mins  release_year  release_month  \\\n",
       "0    0.0830    0.301  174.152       4.354000        2016.0           11.0   \n",
       "1    0.0902    0.494   85.043       3.524433        2016.0           10.0   \n",
       "2    0.1110    0.661   95.010       4.082667        2016.0            7.0   \n",
       "3    0.1150    0.296   90.000       3.234667        2016.0            9.0   \n",
       "4    0.0975    0.447  100.048       3.574667        2016.0           10.0   \n",
       "\n",
       "   release_day  \n",
       "0         17.0  \n",
       "1         28.0  \n",
       "2         29.0  \n",
       "3         29.0  \n",
       "4         11.0  \n",
       "\n",
       "[5 rows x 26 columns]"
      ]
     },
     "execution_count": 49,
     "metadata": {},
     "output_type": "execute_result"
    }
   ],
   "source": [
    "#drop duplicated track_name column\n",
    "df_streams = df_streams.drop(columns='track_name_y')\n",
    "#rename trace_name x\n",
    "df_streams = df_streams.rename(columns={'track_name_x':'track_name'})\n",
    "df_streams = df_streams.drop(columns = ['Unnamed: 0', 'index'])\n",
    "df_streams.head()"
   ]
  },
  {
   "cell_type": "markdown",
   "metadata": {},
   "source": [
    "Write `df_streams` to a file"
   ]
  },
  {
   "cell_type": "code",
   "execution_count": 50,
   "metadata": {
    "ExecuteTime": {
     "end_time": "2020-04-23T16:08:31.782607Z",
     "start_time": "2020-04-23T16:08:31.764615Z"
    }
   },
   "outputs": [
    {
     "data": {
      "text/plain": [
       "Index(['date', 'position', 'track_name', 'artist', 'streams', 'track_id',\n",
       "       'artist_id', 'album_id', 'duration', 'release_date', 'popularity',\n",
       "       'danceability', 'energy', 'key', 'loudness', 'mode', 'speechiness',\n",
       "       'acousticness', 'instrumentalness', 'liveness', 'valence', 'tempo',\n",
       "       'duration_mins', 'release_year', 'release_month', 'release_day'],\n",
       "      dtype='object')"
      ]
     },
     "execution_count": 50,
     "metadata": {},
     "output_type": "execute_result"
    }
   ],
   "source": [
    "df_streams.columns"
   ]
  },
  {
   "cell_type": "code",
   "execution_count": 51,
   "metadata": {
    "ExecuteTime": {
     "end_time": "2020-04-23T16:09:06.112279Z",
     "start_time": "2020-04-23T16:08:35.315961Z"
    }
   },
   "outputs": [],
   "source": [
    "df_streams.to_csv('data\\merged_chart_tracks.csv', index=False)"
   ]
  },
  {
   "cell_type": "markdown",
   "metadata": {},
   "source": [
    "## Q&A"
   ]
  },
  {
   "cell_type": "markdown",
   "metadata": {},
   "source": [
    "Q1: What are the top 10 songs in terms of total streams from 2017 to April 2020?"
   ]
  },
  {
   "cell_type": "code",
   "execution_count": 37,
   "metadata": {
    "ExecuteTime": {
     "end_time": "2020-04-23T15:51:49.445244Z",
     "start_time": "2020-04-23T15:51:49.079454Z"
    }
   },
   "outputs": [
    {
     "data": {
      "text/plain": [
       "track_id                track_name            \n",
       "3WUEs51GpcvlgU7lehLgLh  Kathang Isip              104149008\n",
       "2BgD4nRyx9EZ5o8YEnjRSV  Kung 'Di Rin Lang Ikaw    103032375\n",
       "5uCax9HTNlzGybIStD3vDh  Say You Won't Let Go       94072731\n",
       "1X4l4i472kW5ofFP8Xo0x0  Sana                       92532756\n",
       "1yDiru08Q6omDOGkZMPnei  Maybe The Night            86217838\n",
       "00mBzIWv5gHOYxwuEJXjOG  Sa Ngalan Ng Pag-Ibig      80741291\n",
       "4u8RkgV6P4TLi89SmlUtv8  Mundo                      79751659\n",
       "0tgVpDi06FyKpA1z0VMD4v  Perfect                    72842489\n",
       "5f9808hpiCpuNyqqdXmpF2  Buwan                      70748311\n",
       "7qiZfU4dY1lWllzX7mPBI3  Shape of You               70434067\n",
       "Name: streams, dtype: int64"
      ]
     },
     "execution_count": 37,
     "metadata": {},
     "output_type": "execute_result"
    }
   ],
   "source": [
    "df_streams.groupby(['track_id','track_name'])['streams'].sum().sort_values(ascending=False)[:10]"
   ]
  },
  {
   "cell_type": "markdown",
   "metadata": {},
   "source": [
    "Q2: Whats the mean tempo of the top 10 most streamed songs?"
   ]
  },
  {
   "cell_type": "code",
   "execution_count": 45,
   "metadata": {
    "ExecuteTime": {
     "end_time": "2020-04-23T15:55:24.211984Z",
     "start_time": "2020-04-23T15:55:23.836198Z"
    }
   },
   "outputs": [
    {
     "data": {
      "text/plain": [
       "array(['3WUEs51GpcvlgU7lehLgLh', '2BgD4nRyx9EZ5o8YEnjRSV',\n",
       "       '5uCax9HTNlzGybIStD3vDh', '1X4l4i472kW5ofFP8Xo0x0',\n",
       "       '1yDiru08Q6omDOGkZMPnei', '00mBzIWv5gHOYxwuEJXjOG',\n",
       "       '4u8RkgV6P4TLi89SmlUtv8', '0tgVpDi06FyKpA1z0VMD4v',\n",
       "       '5f9808hpiCpuNyqqdXmpF2', '7qiZfU4dY1lWllzX7mPBI3'], dtype=object)"
      ]
     },
     "execution_count": 45,
     "metadata": {},
     "output_type": "execute_result"
    }
   ],
   "source": [
    "top10songs = df_streams.groupby(['track_id','track_name'])['streams'].sum()\\\n",
    "            .sort_values(ascending=False)[:10]\\\n",
    "            .reset_index()['track_id'].values\n",
    "top10songs"
   ]
  },
  {
   "cell_type": "code",
   "execution_count": 46,
   "metadata": {
    "ExecuteTime": {
     "end_time": "2020-04-23T15:56:34.878921Z",
     "start_time": "2020-04-23T15:56:34.746005Z"
    }
   },
   "outputs": [
    {
     "data": {
      "text/plain": [
       "112.7347515535611"
      ]
     },
     "execution_count": 46,
     "metadata": {},
     "output_type": "execute_result"
    }
   ],
   "source": [
    "df_streams[df_streams['track_id'].isin(top10songs)]['tempo'].mean()"
   ]
  },
  {
   "cell_type": "markdown",
   "metadata": {},
   "source": [
    "Q3: What are the top 5 “saddest” songs in the whole dataset? "
   ]
  },
  {
   "cell_type": "code",
   "execution_count": 47,
   "metadata": {
    "ExecuteTime": {
     "end_time": "2020-04-23T16:00:10.173777Z",
     "start_time": "2020-04-23T16:00:09.618096Z"
    }
   },
   "outputs": [
    {
     "data": {
      "text/html": [
       "<div>\n",
       "<style scoped>\n",
       "    .dataframe tbody tr th:only-of-type {\n",
       "        vertical-align: middle;\n",
       "    }\n",
       "\n",
       "    .dataframe tbody tr th {\n",
       "        vertical-align: top;\n",
       "    }\n",
       "\n",
       "    .dataframe thead th {\n",
       "        text-align: right;\n",
       "    }\n",
       "</style>\n",
       "<table border=\"1\" class=\"dataframe\">\n",
       "  <thead>\n",
       "    <tr style=\"text-align: right;\">\n",
       "      <th></th>\n",
       "      <th>date</th>\n",
       "      <th>position</th>\n",
       "      <th>track_name</th>\n",
       "      <th>artist</th>\n",
       "      <th>streams</th>\n",
       "      <th>track_id</th>\n",
       "      <th>artist_id</th>\n",
       "      <th>album_id</th>\n",
       "      <th>duration</th>\n",
       "      <th>release_date</th>\n",
       "      <th>...</th>\n",
       "      <th>speechiness</th>\n",
       "      <th>acousticness</th>\n",
       "      <th>instrumentalness</th>\n",
       "      <th>liveness</th>\n",
       "      <th>valence</th>\n",
       "      <th>tempo</th>\n",
       "      <th>duration_mins</th>\n",
       "      <th>release_year</th>\n",
       "      <th>release_month</th>\n",
       "      <th>release_day</th>\n",
       "    </tr>\n",
       "  </thead>\n",
       "  <tbody>\n",
       "    <tr>\n",
       "      <th>18989</th>\n",
       "      <td>2017-04-05</td>\n",
       "      <td>190</td>\n",
       "      <td>Midnight</td>\n",
       "      <td>Coldplay</td>\n",
       "      <td>21043</td>\n",
       "      <td>4GKk1uNzpxIptBuaY97Dkj</td>\n",
       "      <td>4gzpq5DPGxSnKTe4SA8HAU</td>\n",
       "      <td>2G4AUqfwxcV1UdQjm2ouYr</td>\n",
       "      <td>294666</td>\n",
       "      <td>2014-05-19</td>\n",
       "      <td>...</td>\n",
       "      <td>0.0355</td>\n",
       "      <td>0.61500</td>\n",
       "      <td>0.80800</td>\n",
       "      <td>0.0944</td>\n",
       "      <td>0.0349</td>\n",
       "      <td>126.976</td>\n",
       "      <td>4.911100</td>\n",
       "      <td>2014.0</td>\n",
       "      <td>5.0</td>\n",
       "      <td>19.0</td>\n",
       "    </tr>\n",
       "    <tr>\n",
       "      <th>18795</th>\n",
       "      <td>2017-04-04</td>\n",
       "      <td>196</td>\n",
       "      <td>Midnight</td>\n",
       "      <td>Coldplay</td>\n",
       "      <td>19750</td>\n",
       "      <td>4GKk1uNzpxIptBuaY97Dkj</td>\n",
       "      <td>4gzpq5DPGxSnKTe4SA8HAU</td>\n",
       "      <td>2G4AUqfwxcV1UdQjm2ouYr</td>\n",
       "      <td>294666</td>\n",
       "      <td>2014-05-19</td>\n",
       "      <td>...</td>\n",
       "      <td>0.0355</td>\n",
       "      <td>0.61500</td>\n",
       "      <td>0.80800</td>\n",
       "      <td>0.0944</td>\n",
       "      <td>0.0349</td>\n",
       "      <td>126.976</td>\n",
       "      <td>4.911100</td>\n",
       "      <td>2014.0</td>\n",
       "      <td>5.0</td>\n",
       "      <td>19.0</td>\n",
       "    </tr>\n",
       "    <tr>\n",
       "      <th>18997</th>\n",
       "      <td>2017-04-05</td>\n",
       "      <td>198</td>\n",
       "      <td>Always in My Head</td>\n",
       "      <td>Coldplay</td>\n",
       "      <td>20076</td>\n",
       "      <td>0FMjqbY3aWo1QDbo3GwXib</td>\n",
       "      <td>4gzpq5DPGxSnKTe4SA8HAU</td>\n",
       "      <td>2G4AUqfwxcV1UdQjm2ouYr</td>\n",
       "      <td>216626</td>\n",
       "      <td>2014-05-19</td>\n",
       "      <td>...</td>\n",
       "      <td>0.0254</td>\n",
       "      <td>0.01280</td>\n",
       "      <td>0.68700</td>\n",
       "      <td>0.0680</td>\n",
       "      <td>0.0397</td>\n",
       "      <td>97.544</td>\n",
       "      <td>3.610433</td>\n",
       "      <td>2014.0</td>\n",
       "      <td>5.0</td>\n",
       "      <td>19.0</td>\n",
       "    </tr>\n",
       "    <tr>\n",
       "      <th>139952</th>\n",
       "      <td>2018-12-04</td>\n",
       "      <td>163</td>\n",
       "      <td>I Always Wanna Die (Sometimes)</td>\n",
       "      <td>The 1975</td>\n",
       "      <td>24410</td>\n",
       "      <td>7iPlcFvOMOzt6v0QvcAueZ</td>\n",
       "      <td>3mIj9lX2MWuHmhNCA7LSCW</td>\n",
       "      <td>6PWXKiakqhI17mTYM4y6oY</td>\n",
       "      <td>314662</td>\n",
       "      <td>2018-11-30</td>\n",
       "      <td>...</td>\n",
       "      <td>0.0325</td>\n",
       "      <td>0.00527</td>\n",
       "      <td>0.00162</td>\n",
       "      <td>0.1230</td>\n",
       "      <td>0.0398</td>\n",
       "      <td>148.835</td>\n",
       "      <td>5.244367</td>\n",
       "      <td>2018.0</td>\n",
       "      <td>11.0</td>\n",
       "      <td>30.0</td>\n",
       "    </tr>\n",
       "    <tr>\n",
       "      <th>140154</th>\n",
       "      <td>2018-12-05</td>\n",
       "      <td>165</td>\n",
       "      <td>I Always Wanna Die (Sometimes)</td>\n",
       "      <td>The 1975</td>\n",
       "      <td>24064</td>\n",
       "      <td>7iPlcFvOMOzt6v0QvcAueZ</td>\n",
       "      <td>3mIj9lX2MWuHmhNCA7LSCW</td>\n",
       "      <td>6PWXKiakqhI17mTYM4y6oY</td>\n",
       "      <td>314662</td>\n",
       "      <td>2018-11-30</td>\n",
       "      <td>...</td>\n",
       "      <td>0.0325</td>\n",
       "      <td>0.00527</td>\n",
       "      <td>0.00162</td>\n",
       "      <td>0.1230</td>\n",
       "      <td>0.0398</td>\n",
       "      <td>148.835</td>\n",
       "      <td>5.244367</td>\n",
       "      <td>2018.0</td>\n",
       "      <td>11.0</td>\n",
       "      <td>30.0</td>\n",
       "    </tr>\n",
       "  </tbody>\n",
       "</table>\n",
       "<p>5 rows × 26 columns</p>\n",
       "</div>"
      ],
      "text/plain": [
       "              date  position                      track_name    artist  \\\n",
       "18989   2017-04-05       190                        Midnight  Coldplay   \n",
       "18795   2017-04-04       196                        Midnight  Coldplay   \n",
       "18997   2017-04-05       198               Always in My Head  Coldplay   \n",
       "139952  2018-12-04       163  I Always Wanna Die (Sometimes)  The 1975   \n",
       "140154  2018-12-05       165  I Always Wanna Die (Sometimes)  The 1975   \n",
       "\n",
       "        streams                track_id               artist_id  \\\n",
       "18989     21043  4GKk1uNzpxIptBuaY97Dkj  4gzpq5DPGxSnKTe4SA8HAU   \n",
       "18795     19750  4GKk1uNzpxIptBuaY97Dkj  4gzpq5DPGxSnKTe4SA8HAU   \n",
       "18997     20076  0FMjqbY3aWo1QDbo3GwXib  4gzpq5DPGxSnKTe4SA8HAU   \n",
       "139952    24410  7iPlcFvOMOzt6v0QvcAueZ  3mIj9lX2MWuHmhNCA7LSCW   \n",
       "140154    24064  7iPlcFvOMOzt6v0QvcAueZ  3mIj9lX2MWuHmhNCA7LSCW   \n",
       "\n",
       "                      album_id  duration release_date  ...  speechiness  \\\n",
       "18989   2G4AUqfwxcV1UdQjm2ouYr    294666   2014-05-19  ...       0.0355   \n",
       "18795   2G4AUqfwxcV1UdQjm2ouYr    294666   2014-05-19  ...       0.0355   \n",
       "18997   2G4AUqfwxcV1UdQjm2ouYr    216626   2014-05-19  ...       0.0254   \n",
       "139952  6PWXKiakqhI17mTYM4y6oY    314662   2018-11-30  ...       0.0325   \n",
       "140154  6PWXKiakqhI17mTYM4y6oY    314662   2018-11-30  ...       0.0325   \n",
       "\n",
       "        acousticness  instrumentalness  liveness  valence    tempo  \\\n",
       "18989        0.61500           0.80800    0.0944   0.0349  126.976   \n",
       "18795        0.61500           0.80800    0.0944   0.0349  126.976   \n",
       "18997        0.01280           0.68700    0.0680   0.0397   97.544   \n",
       "139952       0.00527           0.00162    0.1230   0.0398  148.835   \n",
       "140154       0.00527           0.00162    0.1230   0.0398  148.835   \n",
       "\n",
       "        duration_mins  release_year  release_month  release_day  \n",
       "18989        4.911100        2014.0            5.0         19.0  \n",
       "18795        4.911100        2014.0            5.0         19.0  \n",
       "18997        3.610433        2014.0            5.0         19.0  \n",
       "139952       5.244367        2018.0           11.0         30.0  \n",
       "140154       5.244367        2018.0           11.0         30.0  \n",
       "\n",
       "[5 rows x 26 columns]"
      ]
     },
     "execution_count": 47,
     "metadata": {},
     "output_type": "execute_result"
    }
   ],
   "source": [
    "df_streams.sort_values('valence')[:5]"
   ]
  },
  {
   "cell_type": "code",
   "execution_count": null,
   "metadata": {},
   "outputs": [],
   "source": []
  }
 ],
 "metadata": {
  "kernelspec": {
   "display_name": "Python 3",
   "language": "python",
   "name": "python3"
  },
  "language_info": {
   "codemirror_mode": {
    "name": "ipython",
    "version": 3
   },
   "file_extension": ".py",
   "mimetype": "text/x-python",
   "name": "python",
   "nbconvert_exporter": "python",
   "pygments_lexer": "ipython3",
   "version": "3.7.3"
  }
 },
 "nbformat": 4,
 "nbformat_minor": 2
}
